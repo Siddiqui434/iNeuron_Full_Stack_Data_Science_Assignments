{
 "cells": [
  {
   "cell_type": "markdown",
   "id": "3b86105f-9388-41ef-9f6f-5911317329f8",
   "metadata": {},
   "source": [
    "### Python Basic Assingment 16"
   ]
  },
  {
   "cell_type": "markdown",
   "id": "08ebbfa3-de52-4872-a108-6b17072bd858",
   "metadata": {},
   "source": [
    "* **Q1. Create a list called years_list, starting with the year of your birth, and each year thereafter until the year of your fifth birthday. For example, if you were born in 1980. the list would be years_list = [1980, 1981, 1982, 1983, 1984, 1985].**"
   ]
  },
  {
   "cell_type": "code",
   "execution_count": 2,
   "id": "0331cf7e-eda3-475a-bb88-0782d64088e9",
   "metadata": {},
   "outputs": [
    {
     "data": {
      "text/plain": [
       "[1998, 1999, 2000, 2001, 2002, 2003]"
      ]
     },
     "execution_count": 2,
     "metadata": {},
     "output_type": "execute_result"
    }
   ],
   "source": [
    "years_list = [i for i in range(1998, 1998+6)]\n",
    "years_list"
   ]
  },
  {
   "cell_type": "markdown",
   "id": "091349ab-d7f8-4c49-a8b1-117153bb5d89",
   "metadata": {},
   "source": [
    "* **Q2. In which year in years_list was your third birthday? Remember, you were 0 years of age for your first year.**"
   ]
  },
  {
   "cell_type": "code",
   "execution_count": 5,
   "id": "9c9545c4-3c28-420f-abbf-fa5512320689",
   "metadata": {},
   "outputs": [
    {
     "name": "stdout",
     "output_type": "stream",
     "text": [
      "2001\n"
     ]
    }
   ],
   "source": [
    "third_birthday=years_list[3]\n",
    "print(third_birthday)"
   ]
  },
  {
   "cell_type": "markdown",
   "id": "29d09c37-1f28-41a3-ace0-59bb1e2bbb2f",
   "metadata": {},
   "source": [
    "* **Q3.In the years list, which year were you the oldest?**"
   ]
  },
  {
   "cell_type": "code",
   "execution_count": 6,
   "id": "f139bc2c-6bf6-4161-bc9c-02e71f024b9b",
   "metadata": {},
   "outputs": [
    {
     "data": {
      "text/plain": [
       "2003"
      ]
     },
     "execution_count": 6,
     "metadata": {},
     "output_type": "execute_result"
    }
   ],
   "source": [
    "years_list[-1]"
   ]
  },
  {
   "cell_type": "markdown",
   "id": "8fed1cbc-3b78-40b5-b0e0-020ae3dd01b3",
   "metadata": {},
   "source": [
    "* **Q4. Make a list called things with these three strings as elements: \"mozzarella\", \"cinderella\", \"salmonella\".**"
   ]
  },
  {
   "cell_type": "code",
   "execution_count": 7,
   "id": "6eef17e1-5a0d-4e03-b064-049c55dc7e36",
   "metadata": {},
   "outputs": [
    {
     "name": "stdout",
     "output_type": "stream",
     "text": [
      "['mozzarella', 'cinderella', 'salmonella']\n"
     ]
    }
   ],
   "source": [
    "things = [\"mozzarella\", \"cinderella\", \"salmonella\"]\n",
    "print(things)"
   ]
  },
  {
   "cell_type": "markdown",
   "id": "4588176c-62c1-453c-a71b-d8e53652b097",
   "metadata": {},
   "source": [
    "* **Q5. Capitalize the element in things that refers to a person and then print the list. Did it change the element in the list?**\n"
   ]
  },
  {
   "cell_type": "code",
   "execution_count": 9,
   "id": "ad878b84-290f-4a9b-ae21-2ec1808ec4b3",
   "metadata": {},
   "outputs": [
    {
     "name": "stdout",
     "output_type": "stream",
     "text": [
      "Mozzarella\n",
      "Cinderella\n",
      "Salmonella\n"
     ]
    }
   ],
   "source": [
    "for i in things:\n",
    "    print(i.capitalize())"
   ]
  },
  {
   "cell_type": "code",
   "execution_count": 13,
   "id": "048b4116-17ca-4acb-95b2-94ebc8d72be8",
   "metadata": {},
   "outputs": [
    {
     "name": "stdout",
     "output_type": "stream",
     "text": [
      "['mozzarella', 'cinderella', 'salmonella']\n"
     ]
    }
   ],
   "source": [
    "print(things)   #Capitalize() will not update the list or"
   ]
  },
  {
   "cell_type": "markdown",
   "id": "fb48c699-8537-4559-a108-fc9a4d614551",
   "metadata": {},
   "source": [
    "* **Q6. Make a surprise list with the elements \"Groucho,\" \"Chico,\" and \"Harpo.\"**\n"
   ]
  },
  {
   "cell_type": "code",
   "execution_count": 14,
   "id": "b7b9993d-125f-4c07-bfbe-d77928415650",
   "metadata": {},
   "outputs": [
    {
     "name": "stdout",
     "output_type": "stream",
     "text": [
      "['Groucho,Chico,', 'Harpo']\n"
     ]
    }
   ],
   "source": [
    "surprise_list = [\"Groucho,\" \"Chico,\", \"Harpo\"]\n",
    "print(surprise_list)"
   ]
  },
  {
   "cell_type": "markdown",
   "id": "5167351b-95d9-4d11-9a51-345a6c70a384",
   "metadata": {},
   "source": [
    "* **Q7. Lowercase the last element of the surprise list, reverse it, and then capitalize it.**"
   ]
  },
  {
   "cell_type": "code",
   "execution_count": 15,
   "id": "c5eab063-7f5c-4762-b1e3-6989547d9cc6",
   "metadata": {},
   "outputs": [
    {
     "data": {
      "text/plain": [
       "'harpo'"
      ]
     },
     "execution_count": 15,
     "metadata": {},
     "output_type": "execute_result"
    }
   ],
   "source": [
    "surprise_list[-1].lower()"
   ]
  },
  {
   "cell_type": "code",
   "execution_count": 16,
   "id": "68c0ee58-141d-428b-9d6d-8c6c71369972",
   "metadata": {},
   "outputs": [
    {
     "data": {
      "text/plain": [
       "'opraH'"
      ]
     },
     "execution_count": 16,
     "metadata": {},
     "output_type": "execute_result"
    }
   ],
   "source": [
    "surprise_list[-1][::-1]"
   ]
  },
  {
   "cell_type": "code",
   "execution_count": 17,
   "id": "08b38bb4-9901-4f84-b3cb-21654d549ec1",
   "metadata": {},
   "outputs": [
    {
     "data": {
      "text/plain": [
       "'OPRAH'"
      ]
     },
     "execution_count": 17,
     "metadata": {},
     "output_type": "execute_result"
    }
   ],
   "source": [
    "surprise_list[-1][::-1].upper()"
   ]
  },
  {
   "cell_type": "markdown",
   "id": "a11a2bb0-8ab0-44d2-83b1-e027488888fb",
   "metadata": {},
   "source": [
    "* **Q8. Make an English-to-French dictionary called e2f and print it. Here are your starter words: dog is chien, cat is chat, and walrus is morse.**"
   ]
  },
  {
   "cell_type": "code",
   "execution_count": 3,
   "id": "220904fa-13be-49af-b40c-bd963247b442",
   "metadata": {},
   "outputs": [
    {
     "name": "stdout",
     "output_type": "stream",
     "text": [
      "{'dog': 'chien', 'cat': 'chat', 'walrus': 'morse'}\n"
     ]
    }
   ],
   "source": [
    "e2f = {'dog':'chien','cat':'chat','walrus':'morse'}\n",
    "print(e2f)"
   ]
  },
  {
   "cell_type": "markdown",
   "id": "19aadcd9-8bb3-4a4c-826a-64163b0a0364",
   "metadata": {},
   "source": [
    "* **Q9. Write the French word for walrus in your three-word dictionary e2f.**"
   ]
  },
  {
   "cell_type": "code",
   "execution_count": 4,
   "id": "7233dbc3-dd6f-43a2-a9f7-36acbb442ef2",
   "metadata": {},
   "outputs": [
    {
     "data": {
      "text/plain": [
       "'morse'"
      ]
     },
     "execution_count": 4,
     "metadata": {},
     "output_type": "execute_result"
    }
   ],
   "source": [
    "e2f['walrus']"
   ]
  },
  {
   "cell_type": "code",
   "execution_count": 5,
   "id": "3a75d270-a6c8-4f4c-bbad-8dda855cf8fc",
   "metadata": {},
   "outputs": [
    {
     "name": "stdout",
     "output_type": "stream",
     "text": [
      "morse\n"
     ]
    }
   ],
   "source": [
    "print(e2f.get('walrus'))"
   ]
  },
  {
   "cell_type": "markdown",
   "id": "eb80eaf7-42bb-4953-9161-cdbdb29861fe",
   "metadata": {},
   "source": [
    "* **Q10. Make a French-to-English dictionary called f2e from e2f. Use the items method.**"
   ]
  },
  {
   "cell_type": "code",
   "execution_count": 6,
   "id": "1841af74-0ca5-4142-aeda-87bab0a507f6",
   "metadata": {},
   "outputs": [
    {
     "data": {
      "text/plain": [
       "{'chien': 'dog', 'chat': 'cat', 'morse': 'walrus'}"
      ]
     },
     "execution_count": 6,
     "metadata": {},
     "output_type": "execute_result"
    }
   ],
   "source": [
    "f2e = dict((key,value) for value,key in e2f.items())\n",
    "f2e"
   ]
  },
  {
   "cell_type": "code",
   "execution_count": 7,
   "id": "962432cb-3a35-43dc-b9b3-1698a3dae9fe",
   "metadata": {},
   "outputs": [
    {
     "name": "stdout",
     "output_type": "stream",
     "text": [
      "{'chien': 'dog', 'chat': 'cat', 'morse': 'walrus'}\n"
     ]
    }
   ],
   "source": [
    "f2e = dict([ele[::-1] for ele in e2f.items()])\n",
    "print(f2e)"
   ]
  },
  {
   "cell_type": "markdown",
   "id": "a56cbb99-4662-46bc-8877-99bc6c89d44d",
   "metadata": {},
   "source": [
    "* **Q11. Print the English version of the French word chien using f2e.**\n"
   ]
  },
  {
   "cell_type": "code",
   "execution_count": 8,
   "id": "aa8981d4-6ac4-4026-b0dc-746526357216",
   "metadata": {},
   "outputs": [
    {
     "data": {
      "text/plain": [
       "'dog'"
      ]
     },
     "execution_count": 8,
     "metadata": {},
     "output_type": "execute_result"
    }
   ],
   "source": [
    "f2e['chien']"
   ]
  },
  {
   "cell_type": "markdown",
   "id": "71dce541-d47e-4645-aec9-c8b4b16ecf4f",
   "metadata": {},
   "source": [
    "* **Q12. Make and print a set of English words from the keys in e2f.**"
   ]
  },
  {
   "cell_type": "code",
   "execution_count": 9,
   "id": "ce63a7a7-0b30-4121-895c-6938583ef55a",
   "metadata": {},
   "outputs": [
    {
     "name": "stdout",
     "output_type": "stream",
     "text": [
      "['dog', 'cat', 'walrus']\n"
     ]
    }
   ],
   "source": [
    "print(list(e2f.keys()))"
   ]
  },
  {
   "cell_type": "code",
   "execution_count": 10,
   "id": "8387bc7d-5c5c-4219-b7ad-4aa029f3e30d",
   "metadata": {},
   "outputs": [
    {
     "data": {
      "text/plain": [
       "dict_keys(['dog', 'cat', 'walrus'])"
      ]
     },
     "execution_count": 10,
     "metadata": {},
     "output_type": "execute_result"
    }
   ],
   "source": [
    "e2f.keys()"
   ]
  },
  {
   "cell_type": "markdown",
   "id": "8e222cb3-cb97-4a0b-8cca-5dbd6bd9d261",
   "metadata": {},
   "source": [
    "* **Q13. Make a multilevel dictionary called life. Use these strings for the topmost keys: 'animals', 'plants', and 'other'. Make the 'animals' key refer to another dictionary with the keys 'cats', 'octopi', and 'emus'. Make the 'cats' key refer to a list of strings with the values 'Henri', 'Grumpy', and 'Lucy'. Make all the other keys refer to empty dictionaries.**"
   ]
  },
  {
   "cell_type": "code",
   "execution_count": null,
   "id": "31c6688b-17a3-4fb0-bc9d-b81f52ec1dc5",
   "metadata": {},
   "outputs": [],
   "source": [
    "life ={'animals':{'cat':['Henri', 'Grumpy', 'Lucy'], 'octopi':'', 'emus':''},\n",
    "       'plants' :'',\n",
    "       'other' :'' }\n",
    "life\n"
   ]
  },
  {
   "cell_type": "code",
   "execution_count": 12,
   "id": "55162e6e-d150-4029-990a-344d6333df60",
   "metadata": {},
   "outputs": [
    {
     "data": {
      "text/plain": [
       "{'animal': {'cat': ['Henri', 'Grumpy', 'Lucy'], 'octopi': '', 'emus': ''},\n",
       " 'plants': '',\n",
       " 'other': ''}"
      ]
     },
     "execution_count": 12,
     "metadata": {},
     "output_type": "execute_result"
    }
   ],
   "source": [
    "life = {'animal':{'cat':['Henri','Grumpy','Lucy'],'octopi':\"\",'emus':\"\"},\n",
    "        'plants':\"\",\n",
    "        'other':\"\"}\n",
    "life"
   ]
  },
  {
   "cell_type": "code",
   "execution_count": 13,
   "id": "f6d3813c-fdbd-4020-b214-e845dc2128bf",
   "metadata": {},
   "outputs": [
    {
     "name": "stdout",
     "output_type": "stream",
     "text": [
      "{'animals': {'cats': ['Henri', 'Grumpy', 'Lucy'], 'octopi': {}, 'emus': {}}, 'plants': {}, 'other': {}}\n"
     ]
    }
   ],
   "source": [
    "life = {\n",
    "    'animals':{\n",
    "        'cats':['Henri','Grumpy','Lucy'],\n",
    "        'octopi':{},\n",
    "        'emus':{}\n",
    "    },\n",
    "    'plants':{},\n",
    "    'other':{}\n",
    "}\n",
    "print(life)"
   ]
  },
  {
   "cell_type": "markdown",
   "id": "514b373e-d8dc-477a-8299-bd2c51c2619f",
   "metadata": {},
   "source": [
    "* **Q14. Print the top-level keys of life.**"
   ]
  },
  {
   "cell_type": "code",
   "execution_count": 14,
   "id": "2b921a4b-e707-47b7-a79f-f27ab1f4c0b3",
   "metadata": {},
   "outputs": [
    {
     "data": {
      "text/plain": [
       "dict_keys(['animals', 'plants', 'other'])"
      ]
     },
     "execution_count": 14,
     "metadata": {},
     "output_type": "execute_result"
    }
   ],
   "source": [
    "life.keys()"
   ]
  },
  {
   "cell_type": "markdown",
   "id": "7b7996ce-277d-48e3-8a20-896568c433b2",
   "metadata": {},
   "source": [
    "* **Q15. Print the keys for life['animals'].**"
   ]
  },
  {
   "cell_type": "code",
   "execution_count": 15,
   "id": "9671650c-e900-408e-8ad0-4ff75d6a28e3",
   "metadata": {},
   "outputs": [
    {
     "data": {
      "text/plain": [
       "dict_keys(['cats', 'octopi', 'emus'])"
      ]
     },
     "execution_count": 15,
     "metadata": {},
     "output_type": "execute_result"
    }
   ],
   "source": [
    "life['animals'].keys()"
   ]
  },
  {
   "cell_type": "markdown",
   "id": "7fe41abe-91db-4c7e-8dca-10662484267a",
   "metadata": {},
   "source": [
    "* **Q16. Print the values for life['animals']['cats']**"
   ]
  },
  {
   "cell_type": "code",
   "execution_count": 17,
   "id": "672247bb-6251-42fe-b1af-d4eb05b690c8",
   "metadata": {},
   "outputs": [
    {
     "data": {
      "text/plain": [
       "['Henri', 'Grumpy', 'Lucy']"
      ]
     },
     "execution_count": 17,
     "metadata": {},
     "output_type": "execute_result"
    }
   ],
   "source": [
    "life['animals']['cats']"
   ]
  },
  {
   "cell_type": "code",
   "execution_count": null,
   "id": "9b07d6ed-ccfb-4d88-ac1f-b9fa979df65b",
   "metadata": {},
   "outputs": [],
   "source": []
  }
 ],
 "metadata": {
  "kernelspec": {
   "display_name": "Python 3 (ipykernel)",
   "language": "python",
   "name": "python3"
  },
  "language_info": {
   "codemirror_mode": {
    "name": "ipython",
    "version": 3
   },
   "file_extension": ".py",
   "mimetype": "text/x-python",
   "name": "python",
   "nbconvert_exporter": "python",
   "pygments_lexer": "ipython3",
   "version": "3.10.6"
  }
 },
 "nbformat": 4,
 "nbformat_minor": 5
}
