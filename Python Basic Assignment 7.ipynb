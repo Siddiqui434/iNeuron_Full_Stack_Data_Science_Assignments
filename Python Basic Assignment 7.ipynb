{
 "cells": [
  {
   "cell_type": "markdown",
   "id": "cf858e29-9f89-48a9-a218-462a1590ac08",
   "metadata": {},
   "source": [
    "### Python Basic Assignment 7"
   ]
  },
  {
   "cell_type": "markdown",
   "id": "a3a65f9f-fa90-4b7f-925a-773defcf64c6",
   "metadata": {},
   "source": [
    "* **Q. What is the name of the feature responsible for generating Regex objects?**"
   ]
  },
  {
   "cell_type": "code",
   "execution_count": 1,
   "id": "83b2a10e-e973-4a17-93ad-7914b05c8682",
   "metadata": {},
   "outputs": [
    {
     "data": {
      "text/plain": [
       "re.compile(r'string', re.UNICODE)"
      ]
     },
     "execution_count": 1,
     "metadata": {},
     "output_type": "execute_result"
    }
   ],
   "source": [
    "##Ans.\n",
    "## the re.compile() function returns Regex object?\n",
    "import re\n",
    "re.compile(\"string\")"
   ]
  },
  {
   "cell_type": "markdown",
   "id": "325a7636-847d-46c3-bb96-a3d4a0d9ba96",
   "metadata": {},
   "source": [
    "* **Q Why do raw strings often appear in Regex objects?**\n",
    "\n",
    "Ans . Raw strings are used so that backslashes do not have to be escaped\n"
   ]
  },
  {
   "cell_type": "markdown",
   "id": "6f762d63-eb9a-4d07-af14-82c4f3213c84",
   "metadata": {},
   "source": [
    "* **Q. What is the return value of the search() method ?**\n",
    "\n",
    "Ans . The search() method searches a string for a specified value, and returns the position of the match.\n",
    "\n",
    "The search value can be string or a regular expression. This method returns -1 if no match is found"
   ]
  },
  {
   "cell_type": "markdown",
   "id": "eb6e7b72-9e1c-4f29-bc75-0a60462a7583",
   "metadata": {},
   "source": [
    "* **Q From a Match item, how do you get the actual strings that match the pattern?**"
   ]
  },
  {
   "cell_type": "code",
   "execution_count": 3,
   "id": "3208eb0f-40eb-4a24-b30d-6321d426e07f",
   "metadata": {},
   "outputs": [
    {
     "name": "stdout",
     "output_type": "stream",
     "text": [
      "Phone number is: 345-444-4542\n"
     ]
    }
   ],
   "source": [
    "phoneNumRegex = re.compile(r'\\d\\d\\d-\\d\\d\\d-\\d\\d\\d\\d')\n",
    "mo = phoneNumRegex.search('My number is 345-444-4542.')\n",
    "print('Phone number is: ' + mo.group())\n",
    "#Calling matchingObject.group() will return the string."
   ]
  },
  {
   "cell_type": "markdown",
   "id": "c39088fc-31a6-48a2-acf2-f3aa70cac2a4",
   "metadata": {},
   "source": [
    "* **Q. In the regex which created from the r'(\\d\\d\\d)-(\\d\\d\\d-\\d\\d\\d\\d)', what does group zero cover?\n",
    "Group 2? Group 1?**"
   ]
  },
  {
   "cell_type": "code",
   "execution_count": 4,
   "id": "0f7266c4-0cf2-4967-8411-c751b9385196",
   "metadata": {},
   "outputs": [
    {
     "data": {
      "text/plain": [
       "'345'"
      ]
     },
     "execution_count": 4,
     "metadata": {},
     "output_type": "execute_result"
    }
   ],
   "source": [
    "phoneNumberRegex = re.compile(r'(\\d\\d\\d)-(\\d\\d\\d-\\d\\d\\d\\d)')\n",
    "mo = phoneNumberRegex.search('my number is 345-444-4542.')\n",
    "mo.group(1)"
   ]
  },
  {
   "cell_type": "code",
   "execution_count": 5,
   "id": "ab7ea0bc-73ff-4b30-86e4-eb200d627bac",
   "metadata": {},
   "outputs": [
    {
     "data": {
      "text/plain": [
       "'444-4542'"
      ]
     },
     "execution_count": 5,
     "metadata": {},
     "output_type": "execute_result"
    }
   ],
   "source": [
    "mo.group(2)"
   ]
  },
  {
   "cell_type": "code",
   "execution_count": 6,
   "id": "e5c0a564-d993-4445-b09f-9490cd45e15a",
   "metadata": {},
   "outputs": [
    {
     "data": {
      "text/plain": [
       "'345-444-4542'"
      ]
     },
     "execution_count": 6,
     "metadata": {},
     "output_type": "execute_result"
    }
   ],
   "source": [
    "mo.group(0)"
   ]
  },
  {
   "cell_type": "markdown",
   "id": "edeb08b9-5d0a-4895-aeef-eb88ed10c6a6",
   "metadata": {},
   "source": [
    "* **Q. In standard expression syntax, parentheses and intervals have distinct meanings. How can you tell a regex that you want it to fit real parentheses and periods?**\n",
    "\n",
    "Ans. Periods and parentheses can be escaped with a backslash: ., (, and )."
   ]
  },
  {
   "cell_type": "markdown",
   "id": "0328a351-a1f4-40df-95c1-427f5cdd8afc",
   "metadata": {},
   "source": [
    "**Ques. The findall() method returns a string list or a list of string tuples. What causes it to return one of the two options?**\n",
    "\n",
    "Ans. If the regex has no groups, a list of strings is returned. If the regex has groups, a list of tuples of strings is\n",
    "\n",
    "returned."
   ]
  },
  {
   "cell_type": "markdown",
   "id": "33c1b32c-9499-4c54-8128-9ca1b25833f6",
   "metadata": {},
   "source": [
    "* **Q. In standard expressions, what does the | character mean?**\n",
    "\n",
    "Ans. The | character is called a pipe. You can use it anywhere you want to match one of many expressions.\n",
    "\n",
    "For example, the regular expression r'Cricket|Soccer Sport' will match either 'Cricket' or 'Soccer Sport'.\n",
    "\n",
    "The | character signifies matching “either, or” between two groups"
   ]
  },
  {
   "cell_type": "markdown",
   "id": "89cc9f8f-ea37-4e46-9b57-fcbe0f2e5f5c",
   "metadata": {},
   "source": [
    "* **Q. In regular expressions, what does the ? character stand for?**\n",
    "\n",
    "Ans. The ? character can either mean “match zero or one of the preceding group”."
   ]
  },
  {
   "cell_type": "code",
   "execution_count": 7,
   "id": "69df6a40-54e3-49b5-a88e-24780d5ac628",
   "metadata": {},
   "outputs": [
    {
     "data": {
      "text/plain": [
       "'Batman'"
      ]
     },
     "execution_count": 7,
     "metadata": {},
     "output_type": "execute_result"
    }
   ],
   "source": [
    "batRegex = re.compile(r'Bat(wo)?man')\n",
    "mo1 = batRegex.search('The Adventures of Batman')\n",
    "mo1.group()"
   ]
  },
  {
   "cell_type": "code",
   "execution_count": 8,
   "id": "be7121ee-1b10-44e0-b61b-864d42b215b6",
   "metadata": {},
   "outputs": [
    {
     "data": {
      "text/plain": [
       "'Batwoman'"
      ]
     },
     "execution_count": 8,
     "metadata": {},
     "output_type": "execute_result"
    }
   ],
   "source": [
    "mo2 = batRegex.search('The Adventures of Batwoman')\n",
    "mo2.group()\n",
    "     "
   ]
  },
  {
   "cell_type": "markdown",
   "id": "10a77591-a648-4f03-98c1-581cba2479eb",
   "metadata": {},
   "source": [
    "* **Q.In regular expressions, what is the difference between the + and * characters?**\n",
    "\n",
    "Ans. The + matches one or more. The * matches zero or more"
   ]
  },
  {
   "cell_type": "markdown",
   "id": "75edafef-1010-47a5-960a-e8ba4f0e54f7",
   "metadata": {},
   "source": [
    "* **Q. What is the difference between {4} and {4,5} in regular expression?**\n",
    "\n",
    "Ans. The {4} matches exactly three instances of the preceding group.\n",
    "\n",
    "The {4,5} matches between three and five instances"
   ]
  },
  {
   "cell_type": "markdown",
   "id": "5dd5c1a7-b053-429b-804c-104cf909f191",
   "metadata": {},
   "source": [
    "* **Q. What do you mean by the \\d, \\w, and \\s shorthand character classes signify in regular expressions?**\n",
    "\n",
    "Ans .The \\d, stands for single digit, Any numeric digit from 0 to 9\n",
    "\n",
    "\\w, stands for single word, Any letter, numeric digit, or the underscore character. (Think of this as matching “word” characters.) \\s stands for single space character, Any space, tab, or newline character. (Think of this as matching “space” characters.)"
   ]
  },
  {
   "cell_type": "markdown",
   "id": "5c9012f2-5e39-4430-bf11-27e4831584dd",
   "metadata": {},
   "source": [
    "* **Q. What do means by \\D, \\W, and \\S shorthand character classes signify in regular expressions?**\n",
    "\n",
    "Ans. \\D - > Any character that is not a numeric digit from 0 to 9.\n",
    "\n",
    "\\W - > Any character that is not a letter, numeric digit, or the underscore character.\n",
    "\\S - > Any character that is not a space, tab, or newline."
   ]
  },
  {
   "cell_type": "markdown",
   "id": "6aed9612-162c-4bcd-9d03-e5ff63dcffc7",
   "metadata": {},
   "source": [
    "* **Ques. What is the difference between .? and .?**\n",
    "\n",
    "Ans) .* - The dot-star uses greedy mode: It will always try to match as much text as possible.\n",
    "\n",
    ".? - To match any and all text in a non-greedy fashion, use the dot, star, and question mark (.?). Like with braces, the question mark tells Python to match in a non-greedy way."
   ]
  },
  {
   "cell_type": "markdown",
   "id": "00675f13-f617-4616-9704-e2871ca50b2c",
   "metadata": {},
   "source": [
    "* **Q. What is the syntax for matching both numbers and lowercase letters with a character class?**\n",
    "\n",
    "Ans. Either [0-9a-z] or [a-z0-9]"
   ]
  },
  {
   "cell_type": "code",
   "execution_count": 10,
   "id": "26a727ef-57bd-4c90-bcb2-94793e22c7eb",
   "metadata": {},
   "outputs": [
    {
     "data": {
      "text/plain": [
       "'1'"
      ]
     },
     "execution_count": 10,
     "metadata": {},
     "output_type": "execute_result"
    }
   ],
   "source": [
    "reg1 = re.compile(r'[0-9a-z]')\n",
    "reg2 = re.compile(r'[a-z0-9]')\n",
    "\n",
    "mo1 = reg1.search('100 times I am Reading  this for 100 th time')\n",
    "mo1.group()"
   ]
  },
  {
   "cell_type": "code",
   "execution_count": 11,
   "id": "ef8293fd-4f7c-49fa-9d9b-04f322a3ff23",
   "metadata": {},
   "outputs": [
    {
     "data": {
      "text/plain": [
       "'t'"
      ]
     },
     "execution_count": 11,
     "metadata": {},
     "output_type": "execute_result"
    }
   ],
   "source": [
    "reg2 = re.compile(r'[a-z0-9]')\n",
    "\n",
    "mo1 = reg2.search('times I am Reading  this for 100 th time')\n",
    "mo1.group()"
   ]
  },
  {
   "cell_type": "markdown",
   "id": "25696ba5-a793-4785-a2bb-49b2eb793efd",
   "metadata": {},
   "source": [
    "* **Q. What is the procedure for making a normal expression in regax case insensitive?**\n",
    "\n",
    "Ans. Passing re.I or re.IGNORECASE as the second argument to re.compile() will make the matching case insensitive"
   ]
  },
  {
   "cell_type": "code",
   "execution_count": 12,
   "id": "ff8dd91d-c0d7-4619-928e-d997986899c4",
   "metadata": {},
   "outputs": [
    {
     "data": {
      "text/plain": [
       "'Machine'"
      ]
     },
     "execution_count": 12,
     "metadata": {},
     "output_type": "execute_result"
    }
   ],
   "source": [
    "casesen = re.compile(r'machine', re.I)\n",
    "casesen.search('Machine learning is part of data science').group()"
   ]
  },
  {
   "cell_type": "code",
   "execution_count": 13,
   "id": "a9d8508b-e539-446c-8846-21e5590eb123",
   "metadata": {},
   "outputs": [
    {
     "data": {
      "text/plain": [
       "'MACHINE'"
      ]
     },
     "execution_count": 13,
     "metadata": {},
     "output_type": "execute_result"
    }
   ],
   "source": [
    "casesen.search('MACHINE is learning.').group()\n",
    "     "
   ]
  },
  {
   "cell_type": "markdown",
   "id": "a8461ff3-9d85-43bb-a9a6-f1bf60e58a77",
   "metadata": {},
   "source": [
    "* **Q. What does the . character normally match? What does it match if re.DOTALL is passed as 2nd argument in re.compile()?**\n",
    "\n",
    "Ans.The . character normally matches any character except the newline character.\n",
    "\n",
    "If re.DOTALL is passed as the second argument to re.compile(), then the dot will also match newline characters."
   ]
  },
  {
   "cell_type": "markdown",
   "id": "4d78c528-628e-410c-a7cb-a72f97438c2a",
   "metadata": {},
   "source": [
    "* **Q. If numRegex = re.compile(r'\\d+'), what will numRegex.sub('X', '11 drummers, 10 pipers, five rings, 4 hen') return?**"
   ]
  },
  {
   "cell_type": "code",
   "execution_count": 14,
   "id": "5f73f463-f045-4f57-a089-99b67ce68a6b",
   "metadata": {},
   "outputs": [
    {
     "data": {
      "text/plain": [
       "'X drummers, X pipers, five rings, X hen'"
      ]
     },
     "execution_count": 14,
     "metadata": {},
     "output_type": "execute_result"
    }
   ],
   "source": [
    "numRegex = re.compile(r'\\d+')\n",
    "mo = numRegex.sub('X', '11 drummers, 10 pipers, five rings, 4 hen')\n",
    "mo"
   ]
  },
  {
   "cell_type": "markdown",
   "id": "50e9c1e9-bf8b-42d2-bba5-d701e9c1fb8e",
   "metadata": {},
   "source": [
    "* **Q. What does passing re.VERBOSE as the 2nd argument to re.compile() allow to do?**\n",
    "\n",
    "Ans. The re.VERBOSE argument allows you to add whitespace and comments to the string passed to re.compile()"
   ]
  },
  {
   "cell_type": "markdown",
   "id": "69f2c5cd-a8f2-4032-bf48-f0bf89081471",
   "metadata": {},
   "source": [
    "* **Q. How would you write a regex that match a number with comma for every three digits? It must match the given following:**"
   ]
  },
  {
   "cell_type": "code",
   "execution_count": 17,
   "id": "04146047-e8ef-49ff-859f-708d27f031e3",
   "metadata": {},
   "outputs": [
    {
     "data": {
      "text/plain": [
       "'42'"
      ]
     },
     "execution_count": 17,
     "metadata": {},
     "output_type": "execute_result"
    }
   ],
   "source": [
    "reg1 = re.compile(r'^\\d{1,3}(,\\d{3})*$')\n",
    "mo1 = reg1.search('42')\n",
    "mo1.group()"
   ]
  },
  {
   "cell_type": "code",
   "execution_count": 18,
   "id": "f1c7e6fe-f16d-4c39-b290-54ac871c571c",
   "metadata": {},
   "outputs": [
    {
     "data": {
      "text/plain": [
       "'1,234'"
      ]
     },
     "execution_count": 18,
     "metadata": {},
     "output_type": "execute_result"
    }
   ],
   "source": [
    "reg1 = re.compile(r'^\\d{1,3}(,\\d{3})*$')\n",
    "mo1 = reg1.search('1,234')\n",
    "mo1.group()"
   ]
  },
  {
   "cell_type": "code",
   "execution_count": 19,
   "id": "958d7f4f-7072-41a9-98c3-aa140f497fa2",
   "metadata": {},
   "outputs": [
    {
     "data": {
      "text/plain": [
       "'6,368,745'"
      ]
     },
     "execution_count": 19,
     "metadata": {},
     "output_type": "execute_result"
    }
   ],
   "source": [
    "reg1 = re.compile(r'^\\d{1,3}(,\\d{3})*$')\n",
    "mo1 = reg1.search('6,368,745')\n",
    "mo1.group()"
   ]
  },
  {
   "cell_type": "markdown",
   "id": "1be00692-4632-4817-a1e3-81a7e12f762c",
   "metadata": {},
   "source": [
    "* **Q. How would you write a regex that matches the full name of someone whose last name is Watanabe? You can assume that the first name that comes before it will always be one word that begins with a capital letter. The regex must match the following:**"
   ]
  },
  {
   "cell_type": "code",
   "execution_count": 20,
   "id": "99f4fd86-ae09-46b9-8b00-2ef19376d446",
   "metadata": {},
   "outputs": [
    {
     "data": {
      "text/plain": [
       "'Haruto Watanabe'"
      ]
     },
     "execution_count": 20,
     "metadata": {},
     "output_type": "execute_result"
    }
   ],
   "source": [
    "name = re.compile(r'[A-Z][a-z]*\\sWatanabe')\n",
    "reg1 = re.compile(r'^\\d{1,3}(,\\d{haruto Watanabe3})*$')\n",
    "mo1 = name.search('Haruto Watanabe')\n",
    "mo1.group()\n",
    "     "
   ]
  },
  {
   "cell_type": "code",
   "execution_count": 21,
   "id": "495ae86e-e40d-4585-92cc-0a1ea315eb1c",
   "metadata": {},
   "outputs": [
    {
     "data": {
      "text/plain": [
       "'Alice Watanabe'"
      ]
     },
     "execution_count": 21,
     "metadata": {},
     "output_type": "execute_result"
    }
   ],
   "source": [
    "name = re.compile(r'[A-Z][a-z]*\\sWatanabe')\n",
    "reg1 = re.compile(r'^\\d{1,3}(,\\d{3})*$')\n",
    "mo1 = name.search('Alice Watanabe')\n",
    "mo1.group()"
   ]
  },
  {
   "cell_type": "code",
   "execution_count": 22,
   "id": "79bb6edb-8c88-42f2-b2fa-1fa4814c62bb",
   "metadata": {},
   "outputs": [
    {
     "data": {
      "text/plain": [
       "'Robocop Watanabe'"
      ]
     },
     "execution_count": 22,
     "metadata": {},
     "output_type": "execute_result"
    }
   ],
   "source": [
    "name = re.compile(r'[A-Z][a-z]*\\sWatanabe')\n",
    "reg1 = re.compile(r'^\\d{1,3}(,\\d{3})*$')\n",
    "mo1 = name.search('Robocop Watanabe')\n",
    "mo1.group()\n",
    "     "
   ]
  },
  {
   "cell_type": "markdown",
   "id": "c9d69bcf-424c-43d7-a3c5-38be4bc06820",
   "metadata": {},
   "source": [
    "* **Q. How would you write a regex that matches a sentence where the first word is either Alice, Bob,or Carol; the second word is either eats, pets, or throws; the third word is apples, cats, or baseballs; and the sentence ends with a period? This regex should be case-insensitive. It must match the follow.**"
   ]
  },
  {
   "cell_type": "code",
   "execution_count": 23,
   "id": "603c4437-9774-4648-86fb-1de0505003c4",
   "metadata": {},
   "outputs": [
    {
     "data": {
      "text/plain": [
       "'Alice eats apples.'"
      ]
     },
     "execution_count": 23,
     "metadata": {},
     "output_type": "execute_result"
    }
   ],
   "source": [
    "name = re.compile(r'(Alice|Bob|Carol)\\s(eats|pets|throws)\\s(apples|cats|baseballs)\\.', re.IGNORECASE)\n",
    "\n",
    "mo1 = name.search('Alice eats apples.')\n",
    "mo1.group()\n",
    "     "
   ]
  },
  {
   "cell_type": "code",
   "execution_count": 24,
   "id": "2be74e18-64ff-482d-adef-1327c872c682",
   "metadata": {},
   "outputs": [
    {
     "data": {
      "text/plain": [
       "'Carol throws baseballs.'"
      ]
     },
     "execution_count": 24,
     "metadata": {},
     "output_type": "execute_result"
    }
   ],
   "source": [
    "\n",
    "name = re.compile(r'(Alice|Bob|Carol)\\s(eats|pets|throws)\\s(apples|cats|baseballs)\\.', re.IGNORECASE)\n",
    "\n",
    "mo1 = name.search('Carol throws baseballs.')\n",
    "mo1.group()"
   ]
  },
  {
   "cell_type": "code",
   "execution_count": null,
   "id": "6676bb9d-5c67-4233-b7a4-447f6976a9de",
   "metadata": {},
   "outputs": [],
   "source": []
  }
 ],
 "metadata": {
  "kernelspec": {
   "display_name": "Python 3 (ipykernel)",
   "language": "python",
   "name": "python3"
  },
  "language_info": {
   "codemirror_mode": {
    "name": "ipython",
    "version": 3
   },
   "file_extension": ".py",
   "mimetype": "text/x-python",
   "name": "python",
   "nbconvert_exporter": "python",
   "pygments_lexer": "ipython3",
   "version": "3.10.6"
  }
 },
 "nbformat": 4,
 "nbformat_minor": 5
}
