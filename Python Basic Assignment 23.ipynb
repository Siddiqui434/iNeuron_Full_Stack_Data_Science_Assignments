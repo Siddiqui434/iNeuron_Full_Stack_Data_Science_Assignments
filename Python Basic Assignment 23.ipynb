{
 "cells": [
  {
   "cell_type": "markdown",
   "id": "40a25341-d49d-449f-88c5-b6db78ade3f2",
   "metadata": {},
   "source": [
    "### Python Basic Assignment 23"
   ]
  },
  {
   "cell_type": "markdown",
   "id": "3f108692-2bb2-4acd-84db-e54cc99e12a3",
   "metadata": {},
   "source": [
    "#### 1. What is the result of the code, and why?\n",
    "`>>> def func(a, b=6, c=8):`   \n",
    "`print(a, b, c)`   \n",
    "`>>> func(1, 2)`   \n",
    "**Ans:** The result of the above code is `1 2 8`. its because the function uses the default value of c ie 8 which  is provided at the time of declaration"
   ]
  },
  {
   "cell_type": "code",
   "execution_count": 1,
   "id": "67e878f6-6f48-4cdd-abc4-d26e49b6c3c5",
   "metadata": {},
   "outputs": [
    {
     "name": "stdout",
     "output_type": "stream",
     "text": [
      "1 2 8\n"
     ]
    }
   ],
   "source": [
    "def func(a, b = 6, c = 8):\n",
    "    print(a,b,c)\n",
    "func(1,2)"
   ]
  },
  {
   "cell_type": "markdown",
   "id": "935b2790-bc4e-48cb-858a-e72c4dcbe66c",
   "metadata": {},
   "source": [
    "#### 2. What is the result of this code, and why?\n",
    "`>>> def func(a, b, c=5):`  \n",
    "`print(a, b, c)`  \n",
    "`>>> func(1, c=3, b=2)`     \n",
    "**Ans:** The result of the above code is `1 2 3`. it is because the function will use default values only when a value for a argument is not provided and if argument name is mentioned while doing a function call, the order of arguments is also ignored by the python interpreter"
   ]
  },
  {
   "cell_type": "code",
   "execution_count": 2,
   "id": "a855c424-a990-414a-92a8-d99c49669bab",
   "metadata": {},
   "outputs": [
    {
     "name": "stdout",
     "output_type": "stream",
     "text": [
      "1 2 3\n"
     ]
    }
   ],
   "source": [
    "def func(a,b, c = 5):\n",
    "    print(a, b, c)\n",
    "    \n",
    "func(1, c= 3,b=2)"
   ]
  },
  {
   "cell_type": "markdown",
   "id": "95284a6d-a219-4551-ad5d-0bacc9ef03ca",
   "metadata": {},
   "source": [
    "#### 3. How about this code: what is its result, and why?\n",
    "`>>> def func(a, *pargs):`   \n",
    "`print(a, pargs)`   \n",
    "`>>> func(1, 2, 3)`   \n",
    "**Ans:** The result of the code is `1 (2,3)`. `*pargs` stands for variable length arguments. this format is used when we are not sure about the no of arguments to be passed to a function. all the values under this argument will be stored in a tuple."
   ]
  },
  {
   "cell_type": "code",
   "execution_count": 3,
   "id": "65f13c8f-67a9-4f09-89a2-da8b7f595a8d",
   "metadata": {},
   "outputs": [
    {
     "name": "stdout",
     "output_type": "stream",
     "text": [
      "1 (2, 3)\n"
     ]
    }
   ],
   "source": [
    "def func(a, *pargs):\n",
    "    print(a,pargs)\n",
    "func(1,2,3)"
   ]
  },
  {
   "cell_type": "markdown",
   "id": "561123fa-29ad-40e0-ac56-e4d8a4a69d8c",
   "metadata": {},
   "source": [
    "#### 4. What does this code print, and why?\n",
    "`>>> def func(a, **kargs):`   \n",
    "`print(a, kargs)`   \n",
    "`>>> func(a=1, c=3, b=2)`   \n",
    "**Ans:** The result of the above code is `1 {'c': 3, 'b': 2}`. `**args` stands for variable length keyword arguments. this format is used when we want pass key value pairs as input to a function. All these key value pairs will be stored in a dictionary"
   ]
  },
  {
   "cell_type": "code",
   "execution_count": 4,
   "id": "f8c3bcfd-f41f-4c81-84b1-e875daacf2f0",
   "metadata": {},
   "outputs": [
    {
     "name": "stdout",
     "output_type": "stream",
     "text": [
      "1 {'c': 3, 'b': 2}\n"
     ]
    }
   ],
   "source": [
    "def func(a,**kargs):\n",
    "    print(a,kargs)\n",
    "\n",
    "func(a = 1,c = 3,b=2)"
   ]
  },
  {
   "cell_type": "markdown",
   "id": "b77c5022-55bc-4008-b166-a437b286f4a8",
   "metadata": {},
   "source": [
    "#### 5. What gets printed by this, and explain?\n",
    "`>>> def func(a, b, c=8, d=5): print(a, b, c, d)`   \n",
    "`>>> func(1, *(5, 6))`   \n",
    "    **Ans:** The output of the above is `1 5 6 5`. This reason for this function not throwing an error is because, this function expects 4 arguments. the value for a is provided explicitly whereas for arguments b and c, the function will expand the `*(5,6)` and consider the value of b as 5 and value of c as 6. since the default value of d is provided in function declaration d value will be 5. However it is recommended to use the feature of positional arguments at the end."
   ]
  },
  {
   "cell_type": "code",
   "execution_count": 5,
   "id": "c7026fe7-88ab-4901-ac92-b40771a11be2",
   "metadata": {},
   "outputs": [
    {
     "name": "stdout",
     "output_type": "stream",
     "text": [
      "1 5 6 5\n"
     ]
    }
   ],
   "source": [
    "def func(a,b, c = 8, d= 5): \n",
    "    print(a,b,c,d)\n",
    "    \n",
    "func(1, *(5,6))"
   ]
  },
  {
   "cell_type": "markdown",
   "id": "f5732460-9698-4be3-a569-7b297d8e04ef",
   "metadata": {},
   "source": [
    "#### 6. what is the result of this, and explain?\n",
    "`>>> def func(a, b, c): a = 2; b[0] = 'x'; c['a'] = 'y'`   \n",
    "`>>> l=1; m=[1]; n={'a':0}`   \n",
    "`>>> func(l, m, n)`   \n",
    "`>>> l, m, n`   \n",
    "**Ans:** The output of above code is `1, ['x'], {'a': 'y'}`.\n",
    "1. Eventhough Python gives importance to indentation. its provides a facility to declare an entire function in one single line. where statements in a function body are sepereated by `;`\n",
    "2. When `l,m,n` are provided as inputs to the function. its modifies the values of l,m,n and sets the value of `l=2` ,`m=['x']` and `n={'a':'y'}`"
   ]
  },
  {
   "cell_type": "code",
   "execution_count": 7,
   "id": "05c78f3c-6553-4929-8102-7ebbbc6338da",
   "metadata": {},
   "outputs": [
    {
     "data": {
      "text/plain": [
       "(1, ['x'], {'a': 'y'})"
      ]
     },
     "execution_count": 7,
     "metadata": {},
     "output_type": "execute_result"
    }
   ],
   "source": [
    "def func(a,b,c): a = 2; b[0] = 'x'; c['a'] = 'y'\n",
    "l = 1; m = [1]; n = { 'a':0}\n",
    "func(l,m,n)\n",
    "l,m,n"
   ]
  }
 ],
 "metadata": {
  "kernelspec": {
   "display_name": "Python 3 (ipykernel)",
   "language": "python",
   "name": "python3"
  },
  "language_info": {
   "codemirror_mode": {
    "name": "ipython",
    "version": 3
   },
   "file_extension": ".py",
   "mimetype": "text/x-python",
   "name": "python",
   "nbconvert_exporter": "python",
   "pygments_lexer": "ipython3",
   "version": "3.10.6"
  }
 },
 "nbformat": 4,
 "nbformat_minor": 5
}
