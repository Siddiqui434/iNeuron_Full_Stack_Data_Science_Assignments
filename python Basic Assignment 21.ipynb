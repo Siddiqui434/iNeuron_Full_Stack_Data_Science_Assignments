{
 "cells": [
  {
   "cell_type": "markdown",
   "id": "60957e06-df44-4212-8c2c-6b462bdbb33b",
   "metadata": {},
   "source": [
    "### Python Basic Assignment 21"
   ]
  },
  {
   "cell_type": "markdown",
   "id": "d804344a-9407-48ee-b860-1099b4cd8e6a",
   "metadata": {},
   "source": [
    "* **Q1. Add the current date to the text file today.txt as a string.**"
   ]
  },
  {
   "cell_type": "code",
   "execution_count": 4,
   "id": "75e87b7c-2338-4b02-9cdb-82a09414d5ed",
   "metadata": {},
   "outputs": [
    {
     "name": "stdout",
     "output_type": "stream",
     "text": [
      "15-03-2023\n"
     ]
    }
   ],
   "source": [
    "import datetime\n",
    "# Code to Add current date to the today.txt file\n",
    "file = open('today.txt','w')\n",
    "file.write(datetime.datetime.now().strftime(\"%d-%m-%Y\"))\n",
    "file.close()\n",
    "# Code to Read current date from today.txt file\n",
    "file = open('today.txt','r')\n",
    "print(file.read())\n",
    "file.close()"
   ]
  },
  {
   "cell_type": "markdown",
   "id": "43367c35-cebe-4d5f-911e-aa4ce82b14f0",
   "metadata": {},
   "source": [
    "* **Q2. Read the text file today.txt into the string today_string.**"
   ]
  },
  {
   "cell_type": "code",
   "execution_count": 5,
   "id": "e48f88d7-92f0-4f39-9823-f213909c227c",
   "metadata": {},
   "outputs": [
    {
     "name": "stdout",
     "output_type": "stream",
     "text": [
      "15-03-2023\n"
     ]
    }
   ],
   "source": [
    "file = open('today.txt','r')\n",
    "today_string = file.read()\n",
    "print(today_string)"
   ]
  },
  {
   "cell_type": "markdown",
   "id": "2eb01d5b-fec7-497f-8ce1-fb065604cd6b",
   "metadata": {},
   "source": [
    "* **Q3. Parse the date from today_string.**"
   ]
  },
  {
   "cell_type": "code",
   "execution_count": 7,
   "id": "9613b6e8-644c-4113-9f5f-648b1dbda365",
   "metadata": {},
   "outputs": [
    {
     "name": "stdout",
     "output_type": "stream",
     "text": [
      "2023-03-15 00:00:00\n"
     ]
    }
   ],
   "source": [
    "from datetime import datetime\n",
    "parsed_data = datetime.strptime(today_string, '%d-%m-%Y')\n",
    "print(parsed_data)"
   ]
  },
  {
   "cell_type": "markdown",
   "id": "d2acacfb-ae22-4109-8395-21c5c323e738",
   "metadata": {},
   "source": [
    "* **Q4. List the files in your current directory.**\n"
   ]
  },
  {
   "cell_type": "code",
   "execution_count": 10,
   "id": "e81b2ce7-06c0-48a3-8460-1209ebd626be",
   "metadata": {},
   "outputs": [
    {
     "name": "stdout",
     "output_type": "stream",
     "text": [
      "README.md\n",
      "Python Basic Assignment 13.ipynb\n",
      "test.txt\n",
      "sample-code.ipynb\n",
      "Python Basic Assignment 20.ipynb\n",
      "images.jpg\n",
      "Python stats.ipynb\n",
      "Python Basic Assignment 16.ipynb\n",
      "Python Basic Assignment 12.ipynb\n",
      "Python Basic Assigment 11.ipynb\n",
      "university_records.csv\n",
      "hello.docx\n",
      "Python Basic Assignment 18.ipynb\n",
      "Python Basic Assignment 14.ipynb\n",
      "Python Basic Assignment 17.ipynb\n",
      "Untitled1.ipynb\n",
      "Assingment_8.ipynb\n",
      "Python Basic Assignment 15.ipynb\n",
      "Assingment_10.ipynb\n",
      "Untitled.ipynb\n",
      "Assinment 7.ipynb\n",
      "today.txt\n",
      "Assinment 9.ipynb\n",
      "books.csv\n",
      "mydocument.docx\n",
      "pic2.jpg\n",
      "Python Basic Assignment 19.ipynb\n",
      "Untitled2.ipynb\n",
      "packed-refs\n",
      "HEAD\n",
      "index\n",
      "config\n",
      "description\n",
      "HEAD\n",
      "main\n",
      "HEAD\n",
      "exclude\n",
      "pack-290036e657c294196be1b61a981e44da145e2135.pack\n",
      "pack-290036e657c294196be1b61a981e44da145e2135.idx\n",
      "pre-push.sample\n",
      "prepare-commit-msg.sample\n",
      "applypatch-msg.sample\n",
      "pre-applypatch.sample\n",
      "commit-msg.sample\n",
      "pre-rebase.sample\n",
      "pre-receive.sample\n",
      "update.sample\n",
      "fsmonitor-watchman.sample\n",
      "pre-merge-commit.sample\n",
      "pre-commit.sample\n",
      "push-to-checkout.sample\n",
      "post-update.sample\n",
      "main\n",
      "HEAD\n",
      "books-checkpoint.csv\n",
      "sample-code-checkpoint.ipynb\n",
      "Assingment_8-checkpoint.ipynb\n",
      "Python Basic Assignment 19-checkpoint.ipynb\n",
      "Python Basic Assignment 18-checkpoint.ipynb\n",
      "Untitled1-checkpoint.ipynb\n",
      "Untitled2-checkpoint.ipynb\n",
      "Python Basic Assignment 15-checkpoint.ipynb\n",
      "Assinment 9-checkpoint.ipynb\n",
      "Assingment_10-checkpoint.ipynb\n",
      "Python Basic Assignment 17-checkpoint.ipynb\n",
      "Python Basic Assignment 14-checkpoint.ipynb\n",
      "Assinment 7-checkpoint.ipynb\n",
      "Python Basic Assignment 13-checkpoint.ipynb\n",
      "Python Basic Assignment 12-checkpoint.ipynb\n",
      "Python Basic Assigment 11-checkpoint.ipynb\n",
      "Python Basic Assignment 16-checkpoint.ipynb\n",
      "test-checkpoint.txt\n",
      "Untitled-checkpoint.ipynb\n",
      "Python stats-checkpoint.ipynb\n",
      "Python Basic Assignment 20-checkpoint.ipynb\n"
     ]
    }
   ],
   "source": [
    "import os\n",
    "for folders, subfolders, files in os.walk(os.getcwd()):\n",
    "    for file in files:\n",
    "        print(file)\n",
    "    "
   ]
  },
  {
   "cell_type": "markdown",
   "id": "819d3c39-d649-4422-82c5-c04fef895a2c",
   "metadata": {},
   "source": [
    "* **Q5. Create a list of all of the files in your parent directory (minimum five files should be available).**\n"
   ]
  },
  {
   "cell_type": "code",
   "execution_count": 12,
   "id": "9fa13321-c108-4710-b78c-664aa648993f",
   "metadata": {},
   "outputs": [
    {
     "data": {
      "text/plain": [
       "['README.md',\n",
       " 'Python Basic Assignment 13.ipynb',\n",
       " 'test.txt',\n",
       " 'sample-code.ipynb',\n",
       " 'Python Basic Assignment 20.ipynb',\n",
       " 'images.jpg',\n",
       " 'Python stats.ipynb',\n",
       " 'Python Basic Assignment 16.ipynb',\n",
       " '.git',\n",
       " 'Python Basic Assignment 12.ipynb',\n",
       " 'Python Basic Assigment 11.ipynb',\n",
       " 'university_records.csv',\n",
       " 'hello.docx',\n",
       " 'Python Basic Assignment 18.ipynb',\n",
       " 'Python Basic Assignment 14.ipynb',\n",
       " 'Python Basic Assignment 17.ipynb',\n",
       " 'Untitled1.ipynb',\n",
       " 'Assingment_8.ipynb',\n",
       " 'Python Basic Assignment 15.ipynb',\n",
       " 'Assingment_10.ipynb',\n",
       " 'Untitled.ipynb',\n",
       " '.ipynb_checkpoints',\n",
       " 'Assinment 7.ipynb',\n",
       " 'today.txt',\n",
       " 'Assinment 9.ipynb',\n",
       " 'books.csv',\n",
       " 'mydocument.docx',\n",
       " 'pic2.jpg',\n",
       " 'Python Basic Assignment 19.ipynb',\n",
       " 'Untitled2.ipynb']"
      ]
     },
     "execution_count": 12,
     "metadata": {},
     "output_type": "execute_result"
    }
   ],
   "source": [
    "import os\n",
    "os.listdir()"
   ]
  },
  {
   "cell_type": "markdown",
   "id": "b279ae31-fbc4-47ae-8d3c-c174865fc79d",
   "metadata": {},
   "source": [
    "* **6. Use multiprocessing to create three separate processes. Make each one wait a random number of seconds between one and five, print the current time, and then exit.**"
   ]
  },
  {
   "cell_type": "code",
   "execution_count": 13,
   "id": "8012d01b-b9ec-4952-a86e-5f758c26a1d2",
   "metadata": {},
   "outputs": [
    {
     "name": "stdout",
     "output_type": "stream",
     "text": [
      "Proc_one_Starttime -> 2023-03-15 18:11:15.569746\n",
      "Proc_two_Starttime -> 2023-03-15 18:11:15.635128\n",
      "Proc_two_Starttime -> 2023-03-15 18:11:15.641382\n",
      "Proc_one_Endtime -> 2023-03-15 18:11:17.637748\n",
      "Proc_two_Endtime -> 2023-03-15 18:11:17.641819\n",
      "Proc_two_Endtime -> 2023-03-15 18:11:18.647902\n"
     ]
    }
   ],
   "source": [
    "import multiprocessing\n",
    "import time \n",
    "import random\n",
    "import datetime\n",
    "\n",
    "def procOne():\n",
    "    print(f'Proc_one_Starttime -> {datetime.datetime.now()}')\n",
    "    time.sleep(random.randint(1,5))\n",
    "    print(f'Proc_one_Endtime -> {datetime.datetime.now()}')\n",
    "    \n",
    "def procTwo():\n",
    "    print(f'Proc_two_Starttime -> {datetime.datetime.now()}')\n",
    "    time.sleep(random.randint(1,5))\n",
    "    print(f'Proc_two_Endtime -> {datetime.datetime.now()}')\n",
    "\n",
    "def procThree():\n",
    "    print(f'Proc_two_Starttime -> {datetime.datetime.now()}')\n",
    "    time.sleep(random.randint(1,5))\n",
    "    print(f'Proc_two_Endtime -> {datetime.datetime.now()}')\n",
    "    \n",
    "if __name__ == \"__main__\":    \n",
    "    p1 = multiprocessing.Process(target=procOne)\n",
    "    p2 = multiprocessing.Process(target=procTwo)\n",
    "    p3 = multiprocessing.Process(target=procThree)\n",
    "\n",
    "    p1.start()\n",
    "    p2.start()\n",
    "    p3.start()\n",
    "\n",
    "    p1.join()\n",
    "    p2.join()\n",
    "    p3.join()"
   ]
  },
  {
   "cell_type": "markdown",
   "id": "759af364-d012-4dfe-a840-a6a57165962c",
   "metadata": {},
   "source": [
    "* **Q7. Create a date object of your day of birth.**"
   ]
  },
  {
   "cell_type": "code",
   "execution_count": 16,
   "id": "89d742a0-3568-41ea-8098-ae986a2394d6",
   "metadata": {},
   "outputs": [
    {
     "name": "stdout",
     "output_type": "stream",
     "text": [
      "1998-03-22 00:00:00 <class 'datetime.datetime'>\n"
     ]
    }
   ],
   "source": [
    "from datetime import datetime\n",
    "my_dob = datetime.strptime('22/03/1998','%d/%m/%Y')\n",
    "print(my_dob, type(my_dob))\n"
   ]
  },
  {
   "cell_type": "markdown",
   "id": "b72571be-a487-49d2-b235-2e101c5a674b",
   "metadata": {},
   "source": [
    "* **Q8. What day of the week was your day of birth?**"
   ]
  },
  {
   "cell_type": "code",
   "execution_count": 19,
   "id": "3adc9ef9-8e4f-45f1-967d-62b1f3823aa6",
   "metadata": {},
   "outputs": [
    {
     "data": {
      "text/plain": [
       "'Sunday'"
      ]
     },
     "execution_count": 19,
     "metadata": {},
     "output_type": "execute_result"
    }
   ],
   "source": [
    "from datetime import datetime\n",
    "my_dob = datetime(1998,3,22)\n",
    "my_dob.strftime(\"%A\")"
   ]
  },
  {
   "cell_type": "markdown",
   "id": "27eaa4a6-3250-4598-b535-7d9e243abfb0",
   "metadata": {},
   "source": [
    "* **9. When will you be (or when were you) 10,000 days old?**\n"
   ]
  },
  {
   "cell_type": "code",
   "execution_count": 22,
   "id": "adbcf37e-cd43-4812-840d-962a7e7cab36",
   "metadata": {},
   "outputs": [
    {
     "data": {
      "text/plain": [
       "datetime.datetime(1970, 11, 4, 0, 0)"
      ]
     },
     "execution_count": 22,
     "metadata": {},
     "output_type": "execute_result"
    }
   ],
   "source": [
    "from datetime import datetime, timedelta\n",
    "my_dob = datetime.strptime(\"22/03/1998\",'%d/%m/%Y')\n",
    "future_date = my_dob-timedelta(10000)\n",
    "future_date"
   ]
  },
  {
   "cell_type": "code",
   "execution_count": null,
   "id": "65113b14-6148-41e1-ab4d-3d0c73a81d2e",
   "metadata": {},
   "outputs": [],
   "source": []
  }
 ],
 "metadata": {
  "kernelspec": {
   "display_name": "Python 3 (ipykernel)",
   "language": "python",
   "name": "python3"
  },
  "language_info": {
   "codemirror_mode": {
    "name": "ipython",
    "version": 3
   },
   "file_extension": ".py",
   "mimetype": "text/x-python",
   "name": "python",
   "nbconvert_exporter": "python",
   "pygments_lexer": "ipython3",
   "version": "3.10.6"
  }
 },
 "nbformat": 4,
 "nbformat_minor": 5
}
