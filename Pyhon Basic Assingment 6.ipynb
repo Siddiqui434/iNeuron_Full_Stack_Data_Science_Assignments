{
 "cells": [
  {
   "cell_type": "markdown",
   "id": "3d8d605b",
   "metadata": {},
   "source": [
    "## Python Basic Assignment 6"
   ]
  },
  {
   "cell_type": "markdown",
   "id": "b155fbc4",
   "metadata": {},
   "source": [
    "**1. What are escape characters, and how do you use them?**"
   ]
  },
  {
   "cell_type": "markdown",
   "id": "c3b195d2",
   "metadata": {},
   "source": [
    "Ans : To insert characters that are illegal in a string, use an escape character.\n",
    "\n",
    "An escape character is a backslash \\ followed by the character you want to insert.\n",
    "\n",
    "An example of an illegal character is a double quote inside a string that is surrounded by double quotes:"
   ]
  },
  {
   "cell_type": "code",
   "execution_count": 11,
   "id": "c8bc77e6",
   "metadata": {},
   "outputs": [
    {
     "data": {
      "text/plain": [
       "'We are the so-called \"Vikings\" from the north.'"
      ]
     },
     "execution_count": 11,
     "metadata": {},
     "output_type": "execute_result"
    }
   ],
   "source": [
    "txt = \"We are the so-called \\\"Vikings\\\" from the north.\"\n",
    "txt"
   ]
  },
  {
   "cell_type": "markdown",
   "id": "cfdf44b9",
   "metadata": {},
   "source": [
    "**2. What do the escape characters n and t stand for?**"
   ]
  },
  {
   "cell_type": "markdown",
   "id": "ed03c124",
   "metadata": {},
   "source": [
    "Ans : \\n-New Line and \\t- tab"
   ]
  },
  {
   "cell_type": "markdown",
   "id": "b09859e7",
   "metadata": {},
   "source": [
    "**3. What is the way to include backslash characters in a string?**"
   ]
  },
  {
   "cell_type": "code",
   "execution_count": 13,
   "id": "82875abb",
   "metadata": {},
   "outputs": [
    {
     "name": "stdout",
     "output_type": "stream",
     "text": [
      "it is a backslash \\ in the line\n"
     ]
    }
   ],
   "source": [
    "# Ans :\n",
    "print(\"it is a backslash \\\\ in the line\")\n"
   ]
  },
  {
   "cell_type": "markdown",
   "id": "f9941375",
   "metadata": {},
   "source": [
    "**4. The string \"Howl's Moving Castle\" is a correct value. Why isn't the single quote character in the word Howl's not escaped a problem?**"
   ]
  },
  {
   "cell_type": "markdown",
   "id": "953e9636",
   "metadata": {},
   "source": [
    "Ans :The single quote in Howl's is fine because you've used double quotes to mark the beginning and end of the string. like wise we can use double quotes in with single quotes"
   ]
  },
  {
   "cell_type": "code",
   "execution_count": 14,
   "id": "7845a478",
   "metadata": {},
   "outputs": [
    {
     "name": "stdout",
     "output_type": "stream",
     "text": [
      "Howl's Moving Castle\n"
     ]
    }
   ],
   "source": [
    "print(\"Howl's Moving Castle\" )"
   ]
  },
  {
   "cell_type": "code",
   "execution_count": 15,
   "id": "f409d2e8",
   "metadata": {},
   "outputs": [
    {
     "name": "stdout",
     "output_type": "stream",
     "text": [
      "I am learning \"Python\"\n"
     ]
    }
   ],
   "source": [
    "# like wise we can use double quote in side single quote\n",
    "print('I am learning \"Python\"')"
   ]
  },
  {
   "cell_type": "markdown",
   "id": "163479be",
   "metadata": {},
   "source": [
    "**5. How do you write a string of newlines if you don't want to use the n character?**"
   ]
  },
  {
   "cell_type": "code",
   "execution_count": 16,
   "id": "9b6b57d5",
   "metadata": {},
   "outputs": [
    {
     "name": "stdout",
     "output_type": "stream",
     "text": [
      "printing something in new line\n",
      "newline\n"
     ]
    }
   ],
   "source": [
    "# Ans :\n",
    "print(\"printing something in new line\",end = '\\n')\n",
    "print(\"newline\")"
   ]
  },
  {
   "cell_type": "markdown",
   "id": "de82e8ab",
   "metadata": {},
   "source": [
    "**6. What are the values of the given expressions?\n",
    "&#39;Hello, world!&#39;[1]\n",
    "&#39;Hello, world!&#39;[0:5]\n",
    "&#39;Hello, world!&#39;[:5]\n",
    "&#39;Hello, world!&#39;[3:]**"
   ]
  },
  {
   "cell_type": "code",
   "execution_count": 18,
   "id": "ea54cc95",
   "metadata": {},
   "outputs": [
    {
     "data": {
      "text/plain": [
       "'e'"
      ]
     },
     "execution_count": 18,
     "metadata": {},
     "output_type": "execute_result"
    }
   ],
   "source": [
    "'Hello, world!'[1]"
   ]
  },
  {
   "cell_type": "code",
   "execution_count": 20,
   "id": "e8ef7dcc",
   "metadata": {},
   "outputs": [
    {
     "data": {
      "text/plain": [
       "'Hello'"
      ]
     },
     "execution_count": 20,
     "metadata": {},
     "output_type": "execute_result"
    }
   ],
   "source": [
    "'Hello, world!'[0:5]"
   ]
  },
  {
   "cell_type": "code",
   "execution_count": 21,
   "id": "0d4c28af",
   "metadata": {},
   "outputs": [
    {
     "data": {
      "text/plain": [
       "'Hello'"
      ]
     },
     "execution_count": 21,
     "metadata": {},
     "output_type": "execute_result"
    }
   ],
   "source": [
    "'Hello, world!'[:5]"
   ]
  },
  {
   "cell_type": "code",
   "execution_count": 22,
   "id": "fbbb567c",
   "metadata": {},
   "outputs": [
    {
     "data": {
      "text/plain": [
       "'lo, world!'"
      ]
     },
     "execution_count": 22,
     "metadata": {},
     "output_type": "execute_result"
    }
   ],
   "source": [
    "'Hello, world!'[3:]"
   ]
  },
  {
   "cell_type": "markdown",
   "id": "69da52ec",
   "metadata": {},
   "source": [
    "**7. What are the values of the following expressions?\n",
    "&#39;Hello&#39;.upper()\n",
    "&#39;Hello&#39;.upper().isupper()\n",
    "&#39;Hello&#39;.upper().lower()**"
   ]
  },
  {
   "cell_type": "code",
   "execution_count": 23,
   "id": "2f4f261d",
   "metadata": {},
   "outputs": [
    {
     "data": {
      "text/plain": [
       "'HELLO'"
      ]
     },
     "execution_count": 23,
     "metadata": {},
     "output_type": "execute_result"
    }
   ],
   "source": [
    " 'Hello'.upper()"
   ]
  },
  {
   "cell_type": "code",
   "execution_count": 25,
   "id": "4332b8c6",
   "metadata": {},
   "outputs": [
    {
     "data": {
      "text/plain": [
       "True"
      ]
     },
     "execution_count": 25,
     "metadata": {},
     "output_type": "execute_result"
    }
   ],
   "source": [
    "'Hello'.upper().isupper()"
   ]
  },
  {
   "cell_type": "code",
   "execution_count": 27,
   "id": "6de9340d",
   "metadata": {},
   "outputs": [
    {
     "data": {
      "text/plain": [
       "'hello'"
      ]
     },
     "execution_count": 27,
     "metadata": {},
     "output_type": "execute_result"
    }
   ],
   "source": [
    "'Hello'.upper().lower()"
   ]
  },
  {
   "cell_type": "markdown",
   "id": "7d97b05e",
   "metadata": {},
   "source": [
    "**8. What are the values of the following expressions?\n",
    "&#39;Remember, remember, the fifth of July.&#39;.split()\n",
    "&#39;-&#39;.join(&#39;There can only one.&#39;.split())**"
   ]
  },
  {
   "cell_type": "code",
   "execution_count": 28,
   "id": "127cf37a",
   "metadata": {},
   "outputs": [
    {
     "data": {
      "text/plain": [
       "['Remember,', 'remember,', 'the', 'fifth', 'of', 'July.']"
      ]
     },
     "execution_count": 28,
     "metadata": {},
     "output_type": "execute_result"
    }
   ],
   "source": [
    "'Remember, remember, the fifth of July.'.split()"
   ]
  },
  {
   "cell_type": "code",
   "execution_count": 29,
   "id": "00e42f11",
   "metadata": {},
   "outputs": [
    {
     "data": {
      "text/plain": [
       "'There-can-only-one.'"
      ]
     },
     "execution_count": 29,
     "metadata": {},
     "output_type": "execute_result"
    }
   ],
   "source": [
    "'-'.join('There can only one.'.split())\n"
   ]
  },
  {
   "cell_type": "markdown",
   "id": "06a43b1c",
   "metadata": {},
   "source": [
    "**9. What are the methods for right-justifying, left-justifying, and centering a string?**"
   ]
  },
  {
   "cell_type": "code",
   "execution_count": 36,
   "id": "45d68229",
   "metadata": {},
   "outputs": [
    {
     "data": {
      "text/plain": [
       "'Khushnuma------'"
      ]
     },
     "execution_count": 36,
     "metadata": {},
     "output_type": "execute_result"
    }
   ],
   "source": [
    "# left justified\n",
    "str =\"Khushnuma\"\n",
    "str.ljust(15,\"-\")"
   ]
  },
  {
   "cell_type": "code",
   "execution_count": 37,
   "id": "4a45e631",
   "metadata": {},
   "outputs": [
    {
     "data": {
      "text/plain": [
       "'*******************************Khushnuma'"
      ]
     },
     "execution_count": 37,
     "metadata": {},
     "output_type": "execute_result"
    }
   ],
   "source": [
    "# right justified\n",
    "str =\"Khushnuma\"\n",
    "str.rjust(40,\"*\")"
   ]
  },
  {
   "cell_type": "code",
   "execution_count": 39,
   "id": "62609eaf",
   "metadata": {},
   "outputs": [
    {
     "data": {
      "text/plain": [
       "'***************Khushnuma****************'"
      ]
     },
     "execution_count": 39,
     "metadata": {},
     "output_type": "execute_result"
    }
   ],
   "source": [
    "# center justified\n",
    "str =\"Khushnuma\"\n",
    "str.center(40,\"*\")"
   ]
  },
  {
   "cell_type": "code",
   "execution_count": null,
   "id": "4e7f5837",
   "metadata": {},
   "outputs": [],
   "source": []
  }
 ],
 "metadata": {
  "kernelspec": {
   "display_name": "Python 3 (ipykernel)",
   "language": "python",
   "name": "python3"
  },
  "language_info": {
   "codemirror_mode": {
    "name": "ipython",
    "version": 3
   },
   "file_extension": ".py",
   "mimetype": "text/x-python",
   "name": "python",
   "nbconvert_exporter": "python",
   "pygments_lexer": "ipython3",
   "version": "3.9.7"
  }
 },
 "nbformat": 4,
 "nbformat_minor": 5
}
