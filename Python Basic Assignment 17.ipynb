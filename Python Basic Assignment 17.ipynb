{
 "cells": [
  {
   "cell_type": "markdown",
   "id": "b0019eed-ea2f-45f5-b84b-061d5dcf1ae5",
   "metadata": {},
   "source": [
    "### Python Basic Assignment 17"
   ]
  },
  {
   "cell_type": "markdown",
   "id": "52e9ad4d-c895-4cf1-bd91-6850047673b2",
   "metadata": {},
   "source": [
    "* **Q1. Assign the value 7 to the variable guess_me. Then, write the conditional tests (if, else, and elif) to print the string 'too low' if guess_me is less than 7, 'too high' if greater than 7, and 'just right' if equal to 7.**"
   ]
  },
  {
   "cell_type": "code",
   "execution_count": 2,
   "id": "570f3932-9749-4f5f-96cf-d5c8fe578aa6",
   "metadata": {},
   "outputs": [
    {
     "name": "stdin",
     "output_type": "stream",
     "text": [
      "enter value:  6\n"
     ]
    },
    {
     "name": "stdout",
     "output_type": "stream",
     "text": [
      "too low\n"
     ]
    }
   ],
   "source": [
    "guess_me = int(input(\"enter value: \"))\n",
    "if guess_me == 7:\n",
    "    print(\"just right\")\n",
    "elif guess_me > 7:\n",
    "    print(\"too high\")\n",
    "else:\n",
    "    print(\"too low\")"
   ]
  },
  {
   "cell_type": "code",
   "execution_count": 3,
   "id": "f4e04a66-70a9-40ec-aba4-73f42cf0a440",
   "metadata": {},
   "outputs": [],
   "source": [
    "def guess_me(guess_me):\n",
    "    if guess_me < 7:\n",
    "        print('too low')\n",
    "    elif guess_me > 7:\n",
    "        print('too high')\n",
    "    else:\n",
    "        print('just right')\n",
    "        \n"
   ]
  },
  {
   "cell_type": "code",
   "execution_count": 4,
   "id": "2ef885e6-c550-457e-91ff-260e5249e389",
   "metadata": {},
   "outputs": [
    {
     "name": "stdout",
     "output_type": "stream",
     "text": [
      "just right\n"
     ]
    }
   ],
   "source": [
    "guess_me(7)"
   ]
  },
  {
   "cell_type": "code",
   "execution_count": 5,
   "id": "a7314a82-62f3-4678-8270-3b088a72a79b",
   "metadata": {},
   "outputs": [
    {
     "name": "stdout",
     "output_type": "stream",
     "text": [
      "too low\n"
     ]
    }
   ],
   "source": [
    "guess_me(6)"
   ]
  },
  {
   "cell_type": "code",
   "execution_count": 6,
   "id": "b410dfb9-c380-4f8c-974c-876db59b3d82",
   "metadata": {},
   "outputs": [
    {
     "name": "stdout",
     "output_type": "stream",
     "text": [
      "too high\n"
     ]
    }
   ],
   "source": [
    "guess_me(8)"
   ]
  },
  {
   "cell_type": "markdown",
   "id": "5f174981-f085-4ae4-8a45-c66dc6a86fed",
   "metadata": {},
   "source": [
    "* **Q2. Assign the value 7 to the variable guess_me and the value 1 to the variable start. Write a while loop that compares start with guess_me. Print too low if start is less than guess me. If start equals guess_me, print 'found it!' and exit the loop. If start is greater than guess_me, print 'oops' and exit the loop. Increment start at the end of the loop.**"
   ]
  },
  {
   "cell_type": "code",
   "execution_count": null,
   "id": "d3b83627-e8b0-4333-9804-f168ecad6fec",
   "metadata": {},
   "outputs": [],
   "source": [
    "guess_me = 7\n",
    "start = 1"
   ]
  },
  {
   "cell_type": "code",
   "execution_count": null,
   "id": "aa84d7cb-26d0-440c-b1e3-aad584f601d8",
   "metadata": {},
   "outputs": [],
   "source": [
    "guess_me = 7\n",
    "start = 1\n",
    "while True:\n",
    "    if start < guess_me:\n",
    "        print('too low')\n",
    " x   elif start == guess_me:\n",
    "        print('found it')\n",
    "        break\n",
    "    else:\n",
    "        print('oops')\n",
    "        break\n",
    "    start += 1"
   ]
  },
  {
   "cell_type": "code",
   "execution_count": 8,
   "id": "17d3571f-a766-4f9b-89bf-eb6b6e4afe41",
   "metadata": {},
   "outputs": [
    {
     "name": "stdout",
     "output_type": "stream",
     "text": [
      "too low\n",
      "too low\n",
      "too low\n",
      "too low\n",
      "too low\n",
      "too low\n",
      "found it\n"
     ]
    }
   ],
   "source": [
    "guess_me = 7\n",
    "start = 1\n",
    "while True:\n",
    "    if start < guess_me:\n",
    "        print('too low')\n",
    "    elif start == guess_me:\n",
    "        print('found it')\n",
    "        break\n",
    "    else:\n",
    "        print('oops')\n",
    "        break\n",
    "    start +=1"
   ]
  },
  {
   "cell_type": "markdown",
   "id": "aacc3fc6-9602-46fc-8535-320850db6471",
   "metadata": {},
   "source": [
    "* **Q3. Print the following values of the list [3, 2, 1, 0] using a for loop.**"
   ]
  },
  {
   "cell_type": "code",
   "execution_count": 9,
   "id": "305ccc29-d6c5-4c66-9f53-35c2cdf1ac8f",
   "metadata": {},
   "outputs": [
    {
     "name": "stdout",
     "output_type": "stream",
     "text": [
      "3\n",
      "2\n",
      "1\n",
      "0\n"
     ]
    }
   ],
   "source": [
    "lst = [3,2,1,0]\n",
    "for i in lst:\n",
    "    print(i)"
   ]
  },
  {
   "cell_type": "markdown",
   "id": "a8fae6ca-1230-4c69-b418-6d62937a5acd",
   "metadata": {},
   "source": [
    "* **Q4. Use a list comprehension to make a list of the even numbers in range(10)**"
   ]
  },
  {
   "cell_type": "code",
   "execution_count": 12,
   "id": "353ce612-3338-470a-9611-8c8f7f5367b9",
   "metadata": {},
   "outputs": [],
   "source": [
    "even = [x for x in range(10) if x%2 ==0]"
   ]
  },
  {
   "cell_type": "code",
   "execution_count": 14,
   "id": "4f327930-ff0e-40e5-b7d0-dbaaf0692393",
   "metadata": {},
   "outputs": [
    {
     "data": {
      "text/plain": [
       "[0, 2, 4, 6, 8]"
      ]
     },
     "execution_count": 14,
     "metadata": {},
     "output_type": "execute_result"
    }
   ],
   "source": [
    "even"
   ]
  },
  {
   "cell_type": "markdown",
   "id": "242dc5d5-4ca2-47da-bcfe-b1133bf819f5",
   "metadata": {},
   "source": [
    "* **Q5. Use a dictionary comprehension to create the dictionary squares. Use range(10) to return the keys, and use the square of each key as its value.**"
   ]
  },
  {
   "cell_type": "code",
   "execution_count": 16,
   "id": "3b3d4cb3-4500-4ccc-b253-1b425ab72b0d",
   "metadata": {},
   "outputs": [
    {
     "data": {
      "text/plain": [
       "{0: 0, 1: 1, 2: 4, 3: 9, 4: 16, 5: 25, 6: 36, 7: 49, 8: 64, 9: 81}"
      ]
     },
     "execution_count": 16,
     "metadata": {},
     "output_type": "execute_result"
    }
   ],
   "source": [
    "squares = {x: x**2 for x in range(10)}\n",
    "squares"
   ]
  },
  {
   "cell_type": "markdown",
   "id": "186ca0ff-9693-465b-b5e8-eba465a193b1",
   "metadata": {},
   "source": [
    "* **6. Construct the set odd from the odd numbers in the range using a set comprehension (10).**"
   ]
  },
  {
   "cell_type": "code",
   "execution_count": 19,
   "id": "150f72c6-a333-4967-9e6c-cc9765aa73cc",
   "metadata": {},
   "outputs": [
    {
     "data": {
      "text/plain": [
       "{1, 3, 5, 7, 9}"
      ]
     },
     "execution_count": 19,
     "metadata": {},
     "output_type": "execute_result"
    }
   ],
   "source": [
    "odd = {x for x in range(10) if x % 2 != 0}\n",
    "odd"
   ]
  },
  {
   "cell_type": "markdown",
   "id": "1d531b71-0aea-49e1-b23d-b54386323106",
   "metadata": {},
   "source": [
    "* **7. Use a generator comprehension to return the string 'Got ' and a number for the numbers in range(10). Iterate through this by using a for loop.**"
   ]
  },
  {
   "cell_type": "code",
   "execution_count": 20,
   "id": "bf84a4a9-561b-4b8d-92a4-0cd948fa17ce",
   "metadata": {},
   "outputs": [
    {
     "name": "stdout",
     "output_type": "stream",
     "text": [
      "Got 0\n",
      "Got 1\n",
      "Got 2\n",
      "Got 3\n",
      "Got 4\n",
      "Got 5\n",
      "Got 6\n",
      "Got 7\n",
      "Got 8\n",
      "Got 9\n"
     ]
    }
   ],
   "source": [
    "numbers = (f'Got {x}' for x in range(10))\n",
    "for number in numbers:\n",
    "    print(number)\n"
   ]
  },
  {
   "cell_type": "markdown",
   "id": "5ad5a200-6ba1-4137-bf64-065e201d29c6",
   "metadata": {},
   "source": [
    "* **Q8. Define a function called good that returns the list ['Harry', 'Ron', 'Hermione'].**"
   ]
  },
  {
   "cell_type": "code",
   "execution_count": null,
   "id": "a04853e4-2afc-4123-9244-eb07d17033ea",
   "metadata": {},
   "outputs": [],
   "source": [
    "def good():\n",
    "    return ['Harry', 'Ron', 'Hermione']\n"
   ]
  },
  {
   "cell_type": "code",
   "execution_count": 22,
   "id": "9e23d806-6776-412b-bb4d-bcb2cbe8dd8d",
   "metadata": {},
   "outputs": [
    {
     "data": {
      "text/plain": [
       "['Harry', 'Ron', 'Hermione']"
      ]
     },
     "execution_count": 22,
     "metadata": {},
     "output_type": "execute_result"
    }
   ],
   "source": [
    "good()"
   ]
  },
  {
   "cell_type": "markdown",
   "id": "f669cb95-e2f3-47fa-8d57-575b4c246285",
   "metadata": {},
   "source": [
    "**Q9. Define a generator function called get_odds that returns the odd numbers from range(10). Use a for loop to find and print the third value returned.**"
   ]
  },
  {
   "cell_type": "code",
   "execution_count": 24,
   "id": "b8c005cc-fd21-4568-85af-2703aa9f35e3",
   "metadata": {},
   "outputs": [
    {
     "name": "stdout",
     "output_type": "stream",
     "text": [
      "5\n"
     ]
    }
   ],
   "source": [
    "def get_odds():\n",
    "    for x in range(10):\n",
    "        if x % 2 != 0:\n",
    "            yield x\n",
    "            \n",
    "for i, num in enumerate(get_odds()):\n",
    "    if i == 2:\n",
    "        print(num)\n",
    "        break\n"
   ]
  },
  {
   "cell_type": "markdown",
   "id": "d4eff6f3-c60b-4250-b228-c6d8d6747aa9",
   "metadata": {},
   "source": [
    "* **Q10. Define an exception called OopsException. Raise this exception to see what happens. Then write the code to catch this exception and print 'Caught an oops'.**"
   ]
  },
  {
   "cell_type": "code",
   "execution_count": 25,
   "id": "8ba158eb-bd97-40d0-bbe2-047e5b598165",
   "metadata": {},
   "outputs": [
    {
     "name": "stdout",
     "output_type": "stream",
     "text": [
      "Caught an oops\n"
     ]
    }
   ],
   "source": [
    "class OopsException(Exception):\n",
    "    pass\n",
    "\n",
    "try:\n",
    "    raise OopsException\n",
    "except OopsException:\n",
    "    print(\"Caught an oops\")\n"
   ]
  },
  {
   "cell_type": "markdown",
   "id": "bbf11c9c-a772-4374-b969-841f033ac364",
   "metadata": {},
   "source": [
    "* **Q11. Use zip() to make a dictionary called movies that pairs these lists: titles = ['Creature of Habit', 'Crewel Fate'] and plots = ['A nun turns into a monster', 'A haunted yarn shop'].**"
   ]
  },
  {
   "cell_type": "code",
   "execution_count": 27,
   "id": "efee9142-fcbf-4ae2-958a-1ace806dbb9f",
   "metadata": {},
   "outputs": [
    {
     "name": "stdout",
     "output_type": "stream",
     "text": [
      "{'Creature of Habit': 'A nun turns into a monster', 'Crewel Fate': 'A haunted yarn shop'}\n"
     ]
    }
   ],
   "source": [
    "titles = ['Creature of Habit', 'Crewel Fate']\n",
    "plots = ['A nun turns into a monster', 'A haunted yarn shop']\n",
    "output = dict(zip(titles,plots))\n",
    "print(output)"
   ]
  },
  {
   "cell_type": "code",
   "execution_count": null,
   "id": "e5d90af9-df31-4f4e-bb3c-12d6c7f94ea4",
   "metadata": {},
   "outputs": [],
   "source": []
  }
 ],
 "metadata": {
  "kernelspec": {
   "display_name": "Python 3 (ipykernel)",
   "language": "python",
   "name": "python3"
  },
  "language_info": {
   "codemirror_mode": {
    "name": "ipython",
    "version": 3
   },
   "file_extension": ".py",
   "mimetype": "text/x-python",
   "name": "python",
   "nbconvert_exporter": "python",
   "pygments_lexer": "ipython3",
   "version": "3.10.6"
  }
 },
 "nbformat": 4,
 "nbformat_minor": 5
}
