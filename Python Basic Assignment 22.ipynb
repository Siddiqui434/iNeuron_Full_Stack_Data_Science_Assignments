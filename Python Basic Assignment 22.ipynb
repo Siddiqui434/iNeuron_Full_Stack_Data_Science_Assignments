{
 "cells": [
  {
   "cell_type": "markdown",
   "id": "9335b7e4-297c-48e0-99e1-8ca6c019b6a0",
   "metadata": {},
   "source": [
    "### Python Basic Assignment 22"
   ]
  },
  {
   "cell_type": "markdown",
   "id": "6ea6a8ff-32c6-491f-9dd3-e867a9805070",
   "metadata": {},
   "source": [
    "#### 1. What is the result of the code, and explain?\n",
    "`>>> X = 'iNeuron'`  \n",
    "`>>> def func():`  \n",
    "`    print(X)`  \n",
    "`>>> func()`  \n",
    "**Ans:** The Result of this code is `iNeuron`, it's because the function intially looks for the variable `X` in its local scope,But since there is no local variable `X`, its returns the value of global variable `x` ie `iNeuron`"
   ]
  },
  {
   "cell_type": "code",
   "execution_count": 3,
   "id": "e61caebb-63fa-4485-8183-a3d86cb07070",
   "metadata": {},
   "outputs": [
    {
     "name": "stdout",
     "output_type": "stream",
     "text": [
      "iNeuron\n"
     ]
    }
   ],
   "source": [
    "x = 'iNeuron'\n",
    "def func():\n",
    "    print(x)\n",
    "    \n",
    "func()"
   ]
  },
  {
   "cell_type": "markdown",
   "id": "005932c7-5482-40b2-8bf8-93e3ea1905dd",
   "metadata": {},
   "source": [
    "#### 2. What is the result of the code, and explain?\n",
    "`>>> X = 'iNeuron'`  \n",
    "`>>> def func():`  \n",
    "`X = 'NI!'`  \n",
    "`>>> func()`  \n",
    "`>>> print(X)`  \n",
    "**Ans:** The Result of this cide is `NI!`, because the function initially looks for the variable `X` in its local scope if `X` is not available then it checks for variable `X` in the global scope, Since here the `X` is present in the local scope. it prints the value `NI!`"
   ]
  },
  {
   "cell_type": "code",
   "execution_count": 4,
   "id": "de78e7f3-e3de-4c2f-bba2-4d0e054edf61",
   "metadata": {},
   "outputs": [
    {
     "name": "stdout",
     "output_type": "stream",
     "text": [
      "iNeuron\n"
     ]
    }
   ],
   "source": [
    "X = \"iNeuron\"\n",
    "def func():\n",
    "    X = \"NI\"\n",
    "    \n",
    "func()\n",
    "print(x)"
   ]
  },
  {
   "cell_type": "markdown",
   "id": "4d72e2f9-fdf2-4398-a938-0ac3b960847a",
   "metadata": {},
   "source": [
    "#### 3. What does this code print, and why?\n",
    "`>>> X = 'iNeuron'`  \n",
    "`>>> def func():`  \n",
    "`X = 'NI'`  \n",
    "`print(X)`  \n",
    "`>>> func()`  \n",
    "`>>> print(X)`   \n",
    "**Ans:** The output of the code is `NI` and `iNeuron`. `X=NI` is in the local scope of the function `func()` hence the function prints the x value as  `NI`.  `X = 'iNeuron'` is in the global scope. hence `print(X)` prints output as `iNeuron`"
   ]
  },
  {
   "cell_type": "code",
   "execution_count": 7,
   "id": "c28d8dec-128c-4457-999d-543d7100c1dc",
   "metadata": {},
   "outputs": [
    {
     "name": "stdout",
     "output_type": "stream",
     "text": [
      "NI\n",
      "iNeurone\n"
     ]
    }
   ],
   "source": [
    "x = 'iNeurone'\n",
    "def func():\n",
    "    x = \"NI\"\n",
    "    print(x)\n",
    "    \n",
    "func()\n",
    "print(x)"
   ]
  },
  {
   "cell_type": "markdown",
   "id": "3ae18b29-f74a-4505-b4b9-2f393d182bb9",
   "metadata": {},
   "source": [
    "#### 4. What output does this code produce? Why?\n",
    "`>>> X = 'iNeuron'`   \n",
    "`>>> def func():`   \n",
    "`global X`   \n",
    "`X = 'NI'`   \n",
    "`>>> func()`   \n",
    "`>>> print(X)`   \n",
    "**Ans:** The output of the code is `NI`. the `global` keyword allows a variable to be accessible in the current scope. since we are using global keyword inside the function `func` it directly access the variable in `X` in global scope. and changes its value to `NI`. hence the output of the code is `NI`"
   ]
  },
  {
   "cell_type": "code",
   "execution_count": 8,
   "id": "8d87a181-a729-49bb-acf8-f8d58fc72384",
   "metadata": {},
   "outputs": [
    {
     "name": "stdout",
     "output_type": "stream",
     "text": [
      "NI\n"
     ]
    }
   ],
   "source": [
    "x = 'iNeuron'\n",
    "def func():\n",
    "    global x\n",
    "    x = 'NI'\n",
    "    \n",
    "func()\n",
    "print(x)\n"
   ]
  },
  {
   "cell_type": "markdown",
   "id": "24541f52-5f0c-4d5e-9245-a1d2b6946d6e",
   "metadata": {},
   "source": [
    "#### 5. What about this code—what’s the output, and why?\n",
    "`>>> X = 'iNeuron'`   \n",
    "`>>> def func():`   \n",
    "`X = 'NI'`   \n",
    "`def nested():`   \n",
    "`print(X)`   \n",
    "`nested()`   \n",
    "`>>> func()`   \n",
    "`>>> X`   \n",
    "**Ans:** The output of the code is `NI`. the reason for this output is if a function wants to access a variable, if its not available in its localscope. it looks for the variable in its global scope. similarly here also function `nested` looks for variable `X` in its global scope. hence the output of the code is `NI`"
   ]
  },
  {
   "cell_type": "code",
   "execution_count": 2,
   "id": "95097bda-aaac-4486-ac7a-d9efc4ad3c6f",
   "metadata": {},
   "outputs": [
    {
     "name": "stdout",
     "output_type": "stream",
     "text": [
      "NI\n"
     ]
    },
    {
     "data": {
      "text/plain": [
       "'iNeuron'"
      ]
     },
     "execution_count": 2,
     "metadata": {},
     "output_type": "execute_result"
    }
   ],
   "source": [
    "x = 'iNeuron'\n",
    "def func():\n",
    "    x = 'NI'\n",
    "    def nested():\n",
    "        print(x)\n",
    "    nested()\n",
    "func()\n",
    "x\n",
    "    \n",
    "\n",
    "    "
   ]
  },
  {
   "cell_type": "markdown",
   "id": "962f57c5-98a3-479d-974d-6006b52bfbbd",
   "metadata": {},
   "source": [
    "#### 6. How about this code: what is its output in Python 3, and explain?\n",
    "`>>> def func():`  \n",
    "`X = 'NI'`  \n",
    "`def nested():`  \n",
    "`nonlocal X`  \n",
    "`X = 'Spam'`  \n",
    "`nested()`  \n",
    "`print(X)`  \n",
    "`>>> func()`  \n",
    "**Ans:** The output of the code is `Spam`. `nonlocal` keyword in python is used to declare a variable as not local.Hence the statement `X = \"Spam\"` is modified in the global scope. hence the output of `print(X)` statement is `Spam`"
   ]
  },
  {
   "cell_type": "code",
   "execution_count": 3,
   "id": "46588821-ad15-417c-915e-08bac1eebad3",
   "metadata": {},
   "outputs": [
    {
     "name": "stdout",
     "output_type": "stream",
     "text": [
      "Spam\n"
     ]
    }
   ],
   "source": [
    "def func():\n",
    "    X = 'NI'\n",
    "    def nested():\n",
    "        nonlocal X\n",
    "        X = 'Spam'\n",
    "    nested()\n",
    "    print(X)\n",
    "func()"
   ]
  },
  {
   "cell_type": "code",
   "execution_count": null,
   "id": "76af368d-30e1-41ff-b2fa-a51a91f76dfe",
   "metadata": {},
   "outputs": [],
   "source": []
  }
 ],
 "metadata": {
  "kernelspec": {
   "display_name": "Python 3 (ipykernel)",
   "language": "python",
   "name": "python3"
  },
  "language_info": {
   "codemirror_mode": {
    "name": "ipython",
    "version": 3
   },
   "file_extension": ".py",
   "mimetype": "text/x-python",
   "name": "python",
   "nbconvert_exporter": "python",
   "pygments_lexer": "ipython3",
   "version": "3.10.6"
  }
 },
 "nbformat": 4,
 "nbformat_minor": 5
}
