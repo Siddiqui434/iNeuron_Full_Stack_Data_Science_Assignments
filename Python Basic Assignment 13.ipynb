{
 "cells": [
  {
   "cell_type": "markdown",
   "id": "77ecea54-2f4d-4334-9d04-7c84c4a50c72",
   "metadata": {},
   "source": [
    "### Python Basic Assignment 13"
   ]
  },
  {
   "cell_type": "markdown",
   "id": "cfe9625a-abe4-465d-b1f9-f4b2a1d85854",
   "metadata": {},
   "source": [
    "* **Q 1. What advantages do Excel spreadsheets have over CSV spreadsheets?**\n",
    "\n",
    "Ans: The Advantages of Excel over CSV are:\n",
    "\n",
    "1. Excel (XLS and XLSX) file formats are better for storing and analysing complex data.<br>\n",
    "2. An Excel not only stores data but can also do operations on the data using macros, formulas etc.<br>\n",
    "3. CSV files are plain-text files, Does not contain formatting, formulas, macros, etc. It is also known as flat files.<br>\n"
   ]
  },
  {
   "cell_type": "markdown",
   "id": "e2ccb2fc-ebbe-4128-a725-227345973da9",
   "metadata": {},
   "source": [
    "* **Q 2.What do you pass to csv.reader() and csv.writer() to create reader and writer objects?**"
   ]
  },
  {
   "cell_type": "code",
   "execution_count": null,
   "id": "e2156748-92ef-4e31-a5c2-09085c2db0e9",
   "metadata": {},
   "outputs": [],
   "source": [
    "##This will create a reader and writer objects that you can use to read from or write to the CSV file, respectively.\n",
    "\n",
    "import csv\n",
    "with open('example.csv', 'r') as file:\n",
    "    reader = csv.reader(file)"
   ]
  },
  {
   "cell_type": "code",
   "execution_count": null,
   "id": "c103bb38-39f9-4dd3-9832-62d7061e934b",
   "metadata": {},
   "outputs": [],
   "source": [
    "import csv\n",
    "with open('example.csv', 'w') as file:\n",
    "    writer = csv.writer(file)"
   ]
  },
  {
   "cell_type": "markdown",
   "id": "17120e5e-d542-4e65-a3c0-0b0ee2af53b7",
   "metadata": {},
   "source": [
    "* **Q 3. What modes do File objects for reader and writer objects need to be opened in?**\n",
    "\n",
    "Ans: For csv.reader(iterable_file_object), the file objects needed to be opened in read mode mode='r' Whereas for csv.writer(iterable_file_object) the file objects needed to be opened in write mode mode='w'\n",
    "\n"
   ]
  },
  {
   "cell_type": "code",
   "execution_count": null,
   "id": "cdd00300-2989-4501-a69f-8291f263b52f",
   "metadata": {},
   "outputs": [],
   "source": [
    "# Example Program\n",
    "import csv      \n",
    "fields = ['Name', 'Branch', 'Year', 'CGPA'] #column names \n",
    "rows = [ \n",
    "            ['Nikhil', 'COE', '2', '9.0'],  # data rows of csv file \n",
    "            ['Sanchit', 'COE', '2', '9.1'], \n",
    "            ['Ravi', 'IT', '2', '9.3']\n",
    "       ] \n",
    "with open(\"university_records.csv\", 'w') as csvfile: \n",
    "    csvwriter = csv.writer(csvfile) # creating a csv writer object \n",
    "    csvwriter.writerow(fields) # writing the fields \n",
    "    csvwriter.writerows(rows) # writing the data rows "
   ]
  },
  {
   "cell_type": "markdown",
   "id": "4aa4e220-03a7-4562-9563-51c18bbfb634",
   "metadata": {},
   "source": [
    "* **4. What method takes a list argument and writes it to a CSV file?**\n",
    "\n",
    "Ans: csv.writer class provides two methods for writing to CSV. They are writerow() and writerows(). writerow() method writes a single row at a time. Whereas writerows() method is used to write multiple rows at a time."
   ]
  },
  {
   "cell_type": "code",
   "execution_count": 5,
   "id": "c74118f9-307c-4f92-a9cd-16b9a0151aad",
   "metadata": {},
   "outputs": [],
   "source": [
    "# Example Program\n",
    "import csv      \n",
    "fields = ['Name', 'Branch', 'Year', 'CGPA'] #column names \n",
    "rows = [ \n",
    "            ['Nikhil', 'COE', '2', '9.0'],  # data rows of csv file \n",
    "            ['Sanchit', 'COE', '2', '9.1'], \n",
    "            ['Ravi', 'IT', '2', '9.3']\n",
    "       ] \n",
    "with open(\"university_records.csv\", 'w') as csvfile: \n",
    "    csvwriter = csv.writer(csvfile) # creating a csv writer object \n",
    "    csvwriter.writerow(fields) # writing the fields \n",
    "    csvwriter.writerows(rows) # writing the data rows "
   ]
  },
  {
   "cell_type": "markdown",
   "id": "44c019a2-4076-48c6-91cb-ddb6ef4ebd37",
   "metadata": {},
   "source": [
    "* **5. What do the keyword arguments delimiter and line terminator do?**\n",
    "\n",
    "Ans: Lets take the example of a csv file:<br>\n",
    "First Name, Last Name, Age<br>\n",
    "Mano, Vishnu, 24<br>\n",
    "Vishnu, Vardhan, 21<br>\n",
    "Here ',' is Delimiter. We can use any Character as per our needs if required. Similarly Line Terminator comes at end of line by default it is newline and can be changed accourding to Requirement."
   ]
  },
  {
   "cell_type": "markdown",
   "id": "d2ea63d6-3fa6-4596-8a6d-fbe69772ec96",
   "metadata": {},
   "source": [
    "* **6. What function takes a string of JSON data and returns a Python data structure?**\n",
    "\n",
    "Ans: loads() method takes a string of JSON data and returns a Python data structure"
   ]
  },
  {
   "cell_type": "code",
   "execution_count": 2,
   "id": "c56f8ea6-dd0d-46e8-a783-29c0229e4f50",
   "metadata": {},
   "outputs": [
    {
     "name": "stdout",
     "output_type": "stream",
     "text": [
      "{\n",
      "    \"Name\": \"Mano Vishnu\",\n",
      "    \"Qualification\": \"Bachelor of Technology\",\n",
      "    \"Stream\": \"Computer Science and Engineering\"\n",
      "}\n",
      "Type of my_details_json is <class 'str'>\n",
      "{'Name': 'Mano Vishnu', 'Qualification': 'Bachelor of Technology', 'Stream': 'Computer Science and Engineering'}\n",
      "Type of my_details is <class 'dict'>\n"
     ]
    }
   ],
   "source": [
    "# Example of json.loads() method\n",
    "import json\n",
    "my_details_json ='''{\n",
    "    \"Name\": \"Mano Vishnu\",\n",
    "    \"Qualification\": \"Bachelor of Technology\",\n",
    "    \"Stream\": \"Computer Science and Engineering\"\n",
    "}'''\n",
    "print(my_details_json)\n",
    "print(f'Type of my_details_json is {type(my_details_json)}')\n",
    "my_details = json.loads(my_details_json)\n",
    "print(my_details)\n",
    "print(f'Type of my_details is {type(my_details)}')"
   ]
  },
  {
   "cell_type": "markdown",
   "id": "69d75bcb-beec-45be-bd57-31eb90aa3e2b",
   "metadata": {},
   "source": [
    "* **Q7. What function takes a Python data structure and returns a string of JSON data?**\n",
    "\n",
    "Ans: dumps() method takes a python data structure and returns a string of JSON data"
   ]
  },
  {
   "cell_type": "code",
   "execution_count": 3,
   "id": "9c40e887-02fb-4c6d-bbfa-49e74c8b30c3",
   "metadata": {},
   "outputs": [
    {
     "name": "stdout",
     "output_type": "stream",
     "text": [
      "{'Name': 'Mano Vishnu', 'Stream': 'Computer Science and Engineering', 'Qualification': 'Bachelor of Technology'}\n",
      "Type of my_details is <class 'dict'>\n",
      "{\n",
      "    \"Name\": \"Mano Vishnu\",\n",
      "    \"Qualification\": \"Bachelor of Technology\",\n",
      "    \"Stream\": \"Computer Science and Engineering\"\n",
      "}\n",
      "Type of my_details_json is <class 'str'>\n"
     ]
    }
   ],
   "source": [
    "# Example of json.dumps() method\n",
    "import json\n",
    "my_details = {\n",
    "    'Name':'Mano Vishnu',\n",
    "    'Stream':'Computer Science and Engineering',\n",
    "    'Qualification':'Bachelor of Technology'\n",
    "}\n",
    "print(my_details)\n",
    "print(f'Type of my_details is {type(my_details)}')\n",
    "my_details_json = json.dumps(my_details, indent=4, sort_keys=True)\n",
    "print(my_details_json)\n",
    "print(f'Type of my_details_json is {type(my_details_json)}')"
   ]
  },
  {
   "cell_type": "code",
   "execution_count": null,
   "id": "9f3f68af-7d8a-4bf5-b94a-23a221ad050e",
   "metadata": {},
   "outputs": [],
   "source": []
  }
 ],
 "metadata": {
  "kernelspec": {
   "display_name": "Python 3 (ipykernel)",
   "language": "python",
   "name": "python3"
  },
  "language_info": {
   "codemirror_mode": {
    "name": "ipython",
    "version": 3
   },
   "file_extension": ".py",
   "mimetype": "text/x-python",
   "name": "python",
   "nbconvert_exporter": "python",
   "pygments_lexer": "ipython3",
   "version": "3.10.6"
  }
 },
 "nbformat": 4,
 "nbformat_minor": 5
}
