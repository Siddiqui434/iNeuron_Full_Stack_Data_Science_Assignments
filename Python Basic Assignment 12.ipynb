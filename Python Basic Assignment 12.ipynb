{
 "cells": [
  {
   "cell_type": "markdown",
   "id": "3c3ada01-4c70-4e10-89a6-1bc75859a1ef",
   "metadata": {},
   "source": [
    "### Python Basic Assignment 12"
   ]
  },
  {
   "cell_type": "markdown",
   "id": "07655da5-275b-4f4a-8ad7-b822ca52c18a",
   "metadata": {},
   "source": [
    "* **Q.1 In what modes should the PdfFileReader() and PdfFileWriter() File objects will be opened?**\n",
    "\n",
    "Ans.hese files will be opened in binary mode., read binary (rb) for PdfFileREader() and write binary (wb) PdfFileWriter().\n",
    "\n"
   ]
  },
  {
   "cell_type": "markdown",
   "id": "4d06c4a3-3c28-4441-8541-849e24cc96c4",
   "metadata": {},
   "source": [
    "* **Q 2 From a PdfFileReader object, how do you get a Page object for page 5?**\n",
    "\n",
    "Ans: PdfFileReader class provides a method called getPage(page_no) to get a page object."
   ]
  },
  {
   "cell_type": "code",
   "execution_count": null,
   "id": "f8727ece-9345-4ffa-aedb-84772a19fc7b",
   "metadata": {},
   "outputs": [],
   "source": [
    "# Example Code:\n",
    "from PyPDF2 import PdfFileReader\n",
    "pdf_reader = PdfFileReader(file_path)\n",
    "for page in pdf_reader.getNumPages():\n",
    "    pdf_reader.getPage(page)"
   ]
  },
  {
   "cell_type": "markdown",
   "id": "b92cc163-3000-4332-9e57-6206d39d4df9",
   "metadata": {},
   "source": [
    "* **Q.3 What PdfFileReader variable stores the number of pages in the PDF document?**\n",
    "\n",
    "Ans: getNumPages() method of PdfFileReader class stores the no pages in a PDF document\n",
    "\n"
   ]
  },
  {
   "cell_type": "code",
   "execution_count": null,
   "id": "4e81be4d-73de-40ab-a0bf-8199390fef17",
   "metadata": {},
   "outputs": [],
   "source": [
    "#Example Code:\n",
    "from PyPDF2 import PdfFileReader\n",
    "pdf_reader = PdfFileReader(file_path)\n",
    "print(pdf_reader.getNumPages()) # Prints the no of pages in a input document"
   ]
  },
  {
   "cell_type": "markdown",
   "id": "ee0a4acf-4dd4-4507-a84f-8a053705f373",
   "metadata": {},
   "source": [
    "* **Q 4. If a PdfFileReader object’s PDF is encrypted with the password swordfish, what must you do before you can obtain Page objects from it?**\n",
    "\n",
    "Ans: If a PdfFileReader object’s PDF is encrypted with the password swordfish and you're not aware of it. first read the Pdf using the PdfFileReader Class. PdfFileReader class provides a attribute called isEncrypted to check whether a pdf is encrypted or not. the method returns true if a pdf is encrypted and vice versa.\n",
    "if pdf is encrypted use the decrypt() method provided by PdfFileReader class first then try to read the contents/pages of the pdf, else PyPDF2 will raise the following error PyPDF2.utils.PdfReadError: file has not been decrypted"
   ]
  },
  {
   "cell_type": "code",
   "execution_count": null,
   "id": "4944918b-2b9e-4ed5-b4d4-69870be5964d",
   "metadata": {},
   "outputs": [],
   "source": [
    "#Example Code:\n",
    "from PyPDF2 import PdfFileReader\n",
    "pdf_reader = PdfFileReader(file_path)\n",
    "if pdf_reader.isEncrypted: # to check whether the pdf is encrypted or not\n",
    "    pdf_reader.decrypt(\"swordfish\")\n",
    "for page in pdf_reader.pages:\n",
    "    print(page.extractText()) # to print the text data of a page from pdf"
   ]
  },
  {
   "cell_type": "markdown",
   "id": "9322ebd7-e20e-4253-8c25-8208eb3219e3",
   "metadata": {},
   "source": [
    "* **5. What methods do you use to rotate a page?**\n",
    "\n",
    "Ans: PyPDF2 Package provides 2 methods to rotate a page:\n",
    "\n",
    "1.rotateClockWise() -> For Clockwise rotation<br>\n",
    "2.rotateCounterClockWise() -> For Counter Clockwise rotation<br>\n",
    "The PyPDF2 package only allows you to rotate a page in increments of 90 degrees. You will receive an AssertionError otherwise."
   ]
  },
  {
   "cell_type": "markdown",
   "id": "61bc0890-a84e-4693-8e3d-d92f22cbd645",
   "metadata": {},
   "source": [
    "* **6. What is the difference between a Run object and a Paragraph object?**\n",
    "\n",
    "Ans: The structure of a document is represented by three different data types in python-Docx. At the highest level, a Document object represents the entire document. The Document object contains a list of Paragraph objects for the paragraphs in the document. (A new paragraph begins whenever the user presses ENTER or RETURN while typing in a Word document.) Each of these Paragraph objects contains a list of one or more Run objects.\n",
    "\n",
    "The text in a Word document is more than just a string. It has font, size, color, and other styling information associated with it. A style in Word is a collection of these attributes. A Run object is a contiguous run of text with the same style. A new Run object is needed whenever the text style changes.\n"
   ]
  },
  {
   "cell_type": "markdown",
   "id": "27d4d986-5da6-4de2-92d8-613e29a5f1b2",
   "metadata": {},
   "source": [
    "* **Q 7. How do you obtain a list of Paragraph objects for a Document object that’s stored in a variable named doc?**"
   ]
  },
  {
   "cell_type": "code",
   "execution_count": null,
   "id": "46cb51a5-b23a-4d00-8c49-384d1d422dc8",
   "metadata": {},
   "outputs": [],
   "source": [
    "# Example Program\n",
    "from docx import Document\n",
    "doc = Document(\"sample_file.docx\") # Path of the Docx file\n",
    "print(doc.paragraphs) # Prints the list of Paragraph objects for a Document\n",
    "for paragraph in doc.paragraphs:\n",
    "    print(paragraph.text) # Prints the text in the paragraph"
   ]
  },
  {
   "cell_type": "markdown",
   "id": "0c1cca20-3497-4bed-b4ce-45015ee06a35",
   "metadata": {},
   "source": [
    "* **8. What type of object has bold, underline, italic, strike, and outline variables?**\n",
    "\n",
    "Ans: Run object has bold, underline, italic, strike, and outline variables. The text in a Word document is more than just a string. It has font, size, color, and other styling information associated with it.\n",
    "\n",
    "A style in Word is a collection of these attributes. A Run object is a contiguous run of text with the same style. A new Run object is needed whenever the text style changes."
   ]
  },
  {
   "cell_type": "markdown",
   "id": "e4c94e64-1038-4a29-a9c6-56404613008c",
   "metadata": {},
   "source": [
    "* **Q 9. What is the difference between False, True, and None for the bold variable?**"
   ]
  },
  {
   "cell_type": "code",
   "execution_count": 4,
   "id": "aa37e238-eb45-4b55-b1b1-45a76bd5a55e",
   "metadata": {},
   "outputs": [],
   "source": [
    "bold = True  # Style Set to Bold\n",
    "bold = False # Style Not Set to Bold\n",
    "bold = None # Style is Not Applicable"
   ]
  },
  {
   "cell_type": "markdown",
   "id": "0441f1ea-8b09-485a-b3c5-e229b058005b",
   "metadata": {},
   "source": [
    "* **Q 10. How do you create a Document object for a new Word document?**"
   ]
  },
  {
   "cell_type": "code",
   "execution_count": 2,
   "id": "0fd45fd0-ddb2-4196-9da5-976d63fbaaef",
   "metadata": {},
   "outputs": [
    {
     "name": "stdout",
     "output_type": "stream",
     "text": [
      "Collecting python-docx\n",
      "  Downloading python-docx-0.8.11.tar.gz (5.6 MB)\n",
      "\u001b[2K     \u001b[90m━━━━━━━━━━━━━━━━━━━━━━━━━━━━━━━━━━━━━━━━\u001b[0m \u001b[32m5.6/5.6 MB\u001b[0m \u001b[31m76.2 MB/s\u001b[0m eta \u001b[36m0:00:00\u001b[0m:00:01\u001b[0m00:01\u001b[0m\n",
      "\u001b[?25h  Preparing metadata (setup.py) ... \u001b[?25ldone\n",
      "\u001b[?25hCollecting lxml>=2.3.2\n",
      "  Downloading lxml-4.9.2-cp310-cp310-manylinux_2_17_x86_64.manylinux2014_x86_64.manylinux_2_24_x86_64.whl (7.1 MB)\n",
      "\u001b[2K     \u001b[90m━━━━━━━━━━━━━━━━━━━━━━━━━━━━━━━━━━━━━━━━\u001b[0m \u001b[32m7.1/7.1 MB\u001b[0m \u001b[31m83.4 MB/s\u001b[0m eta \u001b[36m0:00:00\u001b[0m:00:01\u001b[0m00:01\u001b[0m\n",
      "\u001b[?25hBuilding wheels for collected packages: python-docx\n",
      "  Building wheel for python-docx (setup.py) ... \u001b[?25ldone\n",
      "\u001b[?25h  Created wheel for python-docx: filename=python_docx-0.8.11-py3-none-any.whl size=184489 sha256=a3ae9da670c7466aa242098b03b19f76ce66034c892c025dc93f1332af9d6df9\n",
      "  Stored in directory: /home/jovyan/.cache/pip/wheels/65/e1/9b/0c38fe6cfe02a9fe31cb6b4efd90985f17354d7f77872f2def\n",
      "Successfully built python-docx\n",
      "Installing collected packages: lxml, python-docx\n",
      "Successfully installed lxml-4.9.2 python-docx-0.8.11\n",
      "Note: you may need to restart the kernel to use updated packages.\n"
     ]
    }
   ],
   "source": [
    "pip install python-docx"
   ]
  },
  {
   "cell_type": "code",
   "execution_count": 4,
   "id": "840d2108-a739-4250-ba00-1171f9640f4f",
   "metadata": {},
   "outputs": [],
   "source": [
    "# Example Program\n",
    "from docx import Document\n",
    "document = Document()\n",
    "document.add_paragraph(\"iNeuron Full Stack DataScience Course\")\n",
    "document.save('mydocument.docx')"
   ]
  },
  {
   "cell_type": "markdown",
   "id": "4a6f5418-0098-4cb8-8cae-38251eccb7f6",
   "metadata": {},
   "source": [
    "* **Q 11. How do you add a paragraph with the text 'Hello, there!' to a Document object stored in a variable named doc?**\n"
   ]
  },
  {
   "cell_type": "code",
   "execution_count": 5,
   "id": "dcb7d3e4-daa5-4c4e-82b9-588cfc5beef7",
   "metadata": {},
   "outputs": [],
   "source": [
    "# Example Program\n",
    "from docx import Document\n",
    "doc = Document()\n",
    "doc.add_paragraph('Hello, there!')\n",
    "doc.save('hello.docx')"
   ]
  },
  {
   "cell_type": "markdown",
   "id": "0bd59d94-cbe9-4dd0-8f40-1748f988e8de",
   "metadata": {},
   "source": [
    "* **Q 12. What integers represent the levels of headings available in Word documents?**\n",
    "\n",
    "Ans: The levels for a heading in a word document can be specified by using the level attribute inside the add_heading method. There are a total of 5 levels statring for 0 t0 4. where level 0 makes a headline with the horizontal line below the text, whereas the heading level 1 is the main heading. Similarly, the other headings are sub-heading with their's font-sizes in decreasing order."
   ]
  },
  {
   "cell_type": "code",
   "execution_count": null,
   "id": "a1b361b4-f25b-40d8-85b5-38e5408ff577",
   "metadata": {},
   "outputs": [],
   "source": []
  }
 ],
 "metadata": {
  "kernelspec": {
   "display_name": "Python 3 (ipykernel)",
   "language": "python",
   "name": "python3"
  },
  "language_info": {
   "codemirror_mode": {
    "name": "ipython",
    "version": 3
   },
   "file_extension": ".py",
   "mimetype": "text/x-python",
   "name": "python",
   "nbconvert_exporter": "python",
   "pygments_lexer": "ipython3",
   "version": "3.10.6"
  }
 },
 "nbformat": 4,
 "nbformat_minor": 5
}
