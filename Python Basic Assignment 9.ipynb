{
 "cells": [
  {
   "cell_type": "markdown",
   "id": "85acd479-1d87-41f8-9703-f0f1660ec0aa",
   "metadata": {},
   "source": [
    "### Python Basic Assignment 9"
   ]
  },
  {
   "cell_type": "markdown",
   "id": "87693757-0647-4095-a513-26054d566aaf",
   "metadata": {},
   "source": [
    "* **1. To what does a relative path refer?**\n",
    "\n",
    "**Ans:** The relative path is the path to some file with respect to your current working directory (PWD).<br>\n",
    "**For example:** if Absolute path to a file called stuff.txt is: C:/users/admin/docs/stuff.txt If my PWD is C:/users/admin/ , then the relative path to stuff.txt would be: docs/stuff.txt<br>\n",
    "**Note:** PWD + relative path = absolute path"
   ]
  },
  {
   "cell_type": "markdown",
   "id": "833f0345-c582-4d64-988a-8d80484ba257",
   "metadata": {},
   "source": [
    "* **2.Where does an absolute path start with your Operating System ?**\n",
    "\n",
    "Ans: In Linux based systems the absolute path starts with /. Where as in Windows based systems absolute path starts with C:"
   ]
  },
  {
   "cell_type": "markdown",
   "id": "f438f3f0-b3f4-41fa-9e5a-3250beaf0550",
   "metadata": {},
   "source": [
    "* **3.What does the functions os.getcwd() and os.chdir() do ?**\n",
    "\n",
    "Ans: os.getcwd() method tells us the location of current working directory (CWD). Whereas os.chdir() method in Python used to change the current working directory to specified path. These functions are similar to linux commands pwd and cd"
   ]
  },
  {
   "cell_type": "markdown",
   "id": "f734ca21-b1d4-4ac7-b348-66b0909922db",
   "metadata": {},
   "source": [
    "* **4.What are . and .. folders ?**\n",
    "\n",
    "Ans. Represents the Current Directory Whereas .. Represents the Parent Directory of the Current Directory\n"
   ]
  },
  {
   "cell_type": "markdown",
   "id": "320f2adb-fec4-4680-8dc7-a4af67d204fc",
   "metadata": {},
   "source": [
    "* **5.In C:\\bacon\\eggs\\spam.txt which part is the dir name and which part is the base name ?**\n",
    "\n",
    "Ans: <br>\n",
    "For C:\\bacon\\eggs\\spam.txt<br>\n",
    "The dir name is C:\\\\bacon\\\\eggs<br>\n",
    "The Base name is spam.txt<br>"
   ]
  },
  {
   "cell_type": "markdown",
   "id": "3ab5b502-0ac2-4662-943e-b4f464ce47ab",
   "metadata": {},
   "source": [
    "* **6.What are the three mode arguments that can be passed to the open() function ?**\n",
    "\n",
    "Ans: A file can be Accessed in python using open() function. open function takes two arguments filename and mode of operation (optional). if mode is not provided the default mode of opening is read mode\n",
    "So, the syntax being: open(filename, mode)\n",
    "\n",
    "* ‘r’ – Read Mode: This is the default mode for open(). The file is opened and a pointer is positioned at the beginning of the file’s content.\n",
    "* ‘w’ – Write Mode: Using this mode will overwrite any existing content in a file. If the given file does not exist, a new one will be created.\n",
    "* ‘r+’ – Read/Write Mode: Use this mode if you need to simultaneously read and write to a file.\n",
    "* ‘a’ – Append Mode: With this mode the user can append the data without overwriting any already existing data in the file.\n",
    "* ‘a+’ – Append and Read Mode: In this mode you can read and append the data without overwriting the original file.\n",
    "* ‘x’ – Exclusive Creating Mode: This mode is for the sole purpose of creating new files. Use this mode if you know the file to be written doesn’t exist beforehand.\n"
   ]
  },
  {
   "cell_type": "markdown",
   "id": "f338efc3-1fa5-472a-92ec-0ecd607b8e8a",
   "metadata": {},
   "source": [
    "* **7.What happens if an existing file is opened in write mode ?**\n",
    "\n",
    "Ans: Using this mode will overwrite any existing content in a file. If the given file does not exist, a new one will be created."
   ]
  },
  {
   "cell_type": "markdown",
   "id": "29064bb0-e679-481b-a67b-49888526d6f7",
   "metadata": {},
   "source": [
    "* **8.How do you tell the difference between read() and readlines() ?**\n",
    "\n",
    "Ans: The main difference is that read() will read the whole file at once and then print out the first characters that take up as many bytes as you specify in the parenthesis\n",
    "\n",
    "* Whereas the readline() that will read and print out only the first characters that take up as many bytes as you specify in the parenthesis. You may want to use readline() when you're reading files that are too big for your RAM.\n",
    "* The read() would treat each character in the file separately, meaning that the iteration would happen for every character.\n",
    "* The readline() function, on the other hand, only reads a single line of the file. This means that if the first line of the file were three lines long, the readline() function would only parse (or iterate/operate) on the first line of the file."
   ]
  },
  {
   "cell_type": "markdown",
   "id": "a0177880-67f5-4080-8969-3e82a3921794",
   "metadata": {},
   "source": [
    "* **9.What data structure does a shelf value resemble ?**\n",
    "\n",
    "Ans: it contains key and values it represents dictionary."
   ]
  },
  {
   "cell_type": "code",
   "execution_count": null,
   "id": "b672e97b-c6ce-4c82-be9f-d251d362e6ce",
   "metadata": {},
   "outputs": [],
   "source": []
  }
 ],
 "metadata": {
  "kernelspec": {
   "display_name": "Python 3 (ipykernel)",
   "language": "python",
   "name": "python3"
  },
  "language_info": {
   "codemirror_mode": {
    "name": "ipython",
    "version": 3
   },
   "file_extension": ".py",
   "mimetype": "text/x-python",
   "name": "python",
   "nbconvert_exporter": "python",
   "pygments_lexer": "ipython3",
   "version": "3.10.6"
  }
 },
 "nbformat": 4,
 "nbformat_minor": 5
}
