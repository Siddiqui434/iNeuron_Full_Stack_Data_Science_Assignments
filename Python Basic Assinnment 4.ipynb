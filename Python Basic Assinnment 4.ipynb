{
 "cells": [
  {
   "cell_type": "markdown",
   "id": "cb711bf8",
   "metadata": {},
   "source": [
    "## Python Basic Assignment 4"
   ]
  },
  {
   "cell_type": "markdown",
   "id": "462decf6",
   "metadata": {},
   "source": [
    "**1. What exactly is [ ]?** <br>\n",
    "\n",
    "Ans: [ ] is an empty list."
   ]
  },
  {
   "cell_type": "code",
   "execution_count": 3,
   "id": "a35e4f44",
   "metadata": {},
   "outputs": [],
   "source": [
    "a = []"
   ]
  },
  {
   "cell_type": "code",
   "execution_count": 4,
   "id": "4ed0d48d",
   "metadata": {},
   "outputs": [
    {
     "data": {
      "text/plain": [
       "list"
      ]
     },
     "execution_count": 4,
     "metadata": {},
     "output_type": "execute_result"
    }
   ],
   "source": [
    "type(a)"
   ]
  },
  {
   "cell_type": "markdown",
   "id": "3d098d14",
   "metadata": {},
   "source": [
    "**2. In a list of values stored in a variable called spam, how would you assign the value hello' as the third value? (Assume [2, 4, 6, 8, 10] are in spam.)**"
   ]
  },
  {
   "cell_type": "code",
   "execution_count": 5,
   "id": "6af2beaa",
   "metadata": {},
   "outputs": [
    {
     "name": "stdout",
     "output_type": "stream",
     "text": [
      "[2, 4, 'hello', 8, 10]\n"
     ]
    }
   ],
   "source": [
    "# Ans\n",
    "spam = [2, 4, 6, 8, 10]\n",
    "spam[2] = \"hello\"\n",
    "print(spam)"
   ]
  },
  {
   "cell_type": "markdown",
   "id": "b85f3eaf",
   "metadata": {},
   "source": [
    "**Lets pretend the spam includes the list ['a', 'b','c','d'] for the next three queries.**"
   ]
  },
  {
   "cell_type": "markdown",
   "id": "bb292955",
   "metadata": {},
   "source": [
    "**3. What is the value of spam[int(int(3 * 2) / 11)]?**"
   ]
  },
  {
   "cell_type": "code",
   "execution_count": 11,
   "id": "c21b6ece",
   "metadata": {},
   "outputs": [
    {
     "data": {
      "text/plain": [
       "'d'"
      ]
     },
     "execution_count": 11,
     "metadata": {},
     "output_type": "execute_result"
    }
   ],
   "source": [
    "spam = [\"a\",\"b\",\"c\",\"d\"]\n",
    "spam[int(int(\"3\"*2)/11)]  # spam[int(33/11)] = 3"
   ]
  },
  {
   "cell_type": "markdown",
   "id": "a7cd7708",
   "metadata": {},
   "source": [
    "**4. What is the value of spam[-1]?**"
   ]
  },
  {
   "cell_type": "code",
   "execution_count": 12,
   "id": "2ec66003",
   "metadata": {},
   "outputs": [
    {
     "data": {
      "text/plain": [
       "'d'"
      ]
     },
     "execution_count": 12,
     "metadata": {},
     "output_type": "execute_result"
    }
   ],
   "source": [
    "spam = [\"a\",\"b\",\"c\",\"d\"]\n",
    "spam[-1]"
   ]
  },
  {
   "cell_type": "markdown",
   "id": "1a60075c",
   "metadata": {},
   "source": [
    "**5. What is the value of spam[:2]?**"
   ]
  },
  {
   "cell_type": "code",
   "execution_count": 14,
   "id": "9803deba",
   "metadata": {},
   "outputs": [
    {
     "data": {
      "text/plain": [
       "['a', 'b']"
      ]
     },
     "execution_count": 14,
     "metadata": {},
     "output_type": "execute_result"
    }
   ],
   "source": [
    "spam = [\"a\",\"b\",\"c\",\"d\"]\n",
    "spam[:2]"
   ]
  },
  {
   "cell_type": "markdown",
   "id": "1f4ca356",
   "metadata": {},
   "source": [
    "***Let's pretend bacon has the list [3.14, 'cat' 11, 'cat' True] for the next three questions.***"
   ]
  },
  {
   "cell_type": "markdown",
   "id": "07e0f10a",
   "metadata": {},
   "source": [
    "**6. What is the value of bacon.index('cat')?**"
   ]
  },
  {
   "cell_type": "code",
   "execution_count": 17,
   "id": "cb0de2d9",
   "metadata": {},
   "outputs": [
    {
     "data": {
      "text/plain": [
       "1"
      ]
     },
     "execution_count": 17,
     "metadata": {},
     "output_type": "execute_result"
    }
   ],
   "source": [
    "bacon = [3.14,'cat',11,'cat',True]\n",
    "bacon.index('cat')  # it returns the index of first occurrence of 'cat'"
   ]
  },
  {
   "cell_type": "markdown",
   "id": "9c0db4af",
   "metadata": {},
   "source": [
    "**7. How does bacon.append(99) change the look of the list value in bacon?**\n",
    "\n",
    "Ans. append add the item at the end of the list."
   ]
  },
  {
   "cell_type": "code",
   "execution_count": 19,
   "id": "2a4db7bf",
   "metadata": {},
   "outputs": [
    {
     "name": "stdout",
     "output_type": "stream",
     "text": [
      "[3.14, 'cat', 11, 'cat', True, 99]\n"
     ]
    }
   ],
   "source": [
    "bacon = [3.14,'cat',11,'cat',True]\n",
    "bacon.append(99)\n",
    "print(bacon)"
   ]
  },
  {
   "cell_type": "markdown",
   "id": "404f0b27",
   "metadata": {},
   "source": [
    "**8. How does bacon.remove('cat') change the look of the list in bacon?**\n",
    "\n",
    "Ans:  remove the first occurrence of item"
   ]
  },
  {
   "cell_type": "code",
   "execution_count": 21,
   "id": "df6c1381",
   "metadata": {},
   "outputs": [
    {
     "name": "stdout",
     "output_type": "stream",
     "text": [
      "[3.14, 11, 'cat', True]\n"
     ]
    }
   ],
   "source": [
    "bacon = [3.14,'cat',11,'cat',True]\n",
    "bacon.remove('cat')\n",
    "print(bacon)"
   ]
  },
  {
   "cell_type": "markdown",
   "id": "1553f3a9",
   "metadata": {},
   "source": [
    "**9. What are the list concatenation and list replication operators?**\n",
    "\n",
    "Ans:(*) is the replication operators and (+) is the concatenation."
   ]
  },
  {
   "cell_type": "code",
   "execution_count": 23,
   "id": "52e9d785",
   "metadata": {},
   "outputs": [
    {
     "data": {
      "text/plain": [
       "[3, 5, 7, 9, 2, 5, 7, 8]"
      ]
     },
     "execution_count": 23,
     "metadata": {},
     "output_type": "execute_result"
    }
   ],
   "source": [
    "a = [3,5,7,9]\n",
    "b = [2,5,7, 8]\n",
    "# list concatenation\n",
    "a+b"
   ]
  },
  {
   "cell_type": "code",
   "execution_count": 25,
   "id": "11bed225",
   "metadata": {},
   "outputs": [
    {
     "data": {
      "text/plain": [
       "[3, 5, 7, 9, 3, 5, 7, 9, 3, 5, 7, 9]"
      ]
     },
     "execution_count": 25,
     "metadata": {},
     "output_type": "execute_result"
    }
   ],
   "source": [
    "a*3 # list replication"
   ]
  },
  {
   "cell_type": "markdown",
   "id": "082319fa",
   "metadata": {},
   "source": [
    "**10. What is difference between the list methods append() and insert()?**\n",
    "\n",
    "Ans: \n",
    "\n",
    "append() method add the element at the end of the list<br>\n",
    "\n",
    "insert() Method insert an item at the specified index"
   ]
  },
  {
   "cell_type": "code",
   "execution_count": 29,
   "id": "1512c55b",
   "metadata": {},
   "outputs": [
    {
     "data": {
      "text/plain": [
       "[2, 3, 5, 6, 7, 9]"
      ]
     },
     "execution_count": 29,
     "metadata": {},
     "output_type": "execute_result"
    }
   ],
   "source": [
    "# eg\n",
    "l1 = [2,3,5,6,7] # append method\n",
    "l1.append(9)\n",
    "l1"
   ]
  },
  {
   "cell_type": "code",
   "execution_count": 33,
   "id": "9430d86f",
   "metadata": {},
   "outputs": [
    {
     "data": {
      "text/plain": [
       "[2, 3, 5, 12, 12, 12, 6, 7, 9]"
      ]
     },
     "execution_count": 33,
     "metadata": {},
     "output_type": "execute_result"
    }
   ],
   "source": [
    "l1.insert(3,12) # insert method\n",
    "l1"
   ]
  },
  {
   "cell_type": "markdown",
   "id": "bae8746b",
   "metadata": {},
   "source": [
    "**11. What are the two methods for removing items from a list?**\n",
    "\n",
    "Ans: remove() and pop() are used for removing item from the list.\n",
    "\n",
    " **remove() method remove the specified item.**<br>\n",
    " **pop() method remove specified index. if do not specify the index, the pop method remove the last item.**\n",
    " "
   ]
  },
  {
   "cell_type": "code",
   "execution_count": 35,
   "id": "6029bff7",
   "metadata": {},
   "outputs": [
    {
     "data": {
      "text/plain": [
       "[2, 5, 12, 12, 12, 6, 7, 9]"
      ]
     },
     "execution_count": 35,
     "metadata": {},
     "output_type": "execute_result"
    }
   ],
   "source": [
    "l = [2, 3, 5, 12, 12, 12, 6, 7, 9]\n",
    "l.remove(3) # remove the specified items.\n",
    "l"
   ]
  },
  {
   "cell_type": "code",
   "execution_count": 38,
   "id": "26a3f59d",
   "metadata": {},
   "outputs": [
    {
     "data": {
      "text/plain": [
       "[2, 3, 5, 12, 12, 6, 7, 9]"
      ]
     },
     "execution_count": 38,
     "metadata": {},
     "output_type": "execute_result"
    }
   ],
   "source": [
    "l = [2, 3, 5, 12, 12, 12, 6, 7, 9]\n",
    "l.pop(4) # remove the items from  specified index\n",
    "l"
   ]
  },
  {
   "cell_type": "code",
   "execution_count": 41,
   "id": "e5e9c3b5",
   "metadata": {},
   "outputs": [
    {
     "data": {
      "text/plain": [
       "[2, 3, 5, 12, 12, 12, 6, 7]"
      ]
     },
     "execution_count": 41,
     "metadata": {},
     "output_type": "execute_result"
    }
   ],
   "source": [
    "l = [2, 3, 5, 12, 12, 12, 6, 7, 9]\n",
    "l.pop() # if not specified remove the last item.\n",
    "l"
   ]
  },
  {
   "cell_type": "markdown",
   "id": "c8eda461",
   "metadata": {},
   "source": [
    "**12. Describe how list values and string values are identical.**\n",
    "\n",
    "1. Both lists and strings can be passed to len()\n",
    "2. Have indexes and slices\n",
    "3. Can be used in for loops\n",
    "4. Can be concatenated or replicated\n",
    "5. Can be used with the in and not in operators"
   ]
  },
  {
   "cell_type": "markdown",
   "id": "27a92eab",
   "metadata": {},
   "source": [
    "**13. What's the difference between tuples and lists?**\n",
    "\n",
    "Ans: \n",
    "\n",
    "**List is Mutable - The list is changeable, meaning that we can change, add, and remove items in a list after it has been created.**\n",
    "\n",
    "**Tuple is immutable - Tuples are unchangeable, meaning that we cannot change, add or remove items after the tuple has been created.**\n",
    "\n",
    "List uses the square bracket [ ]<br>\n",
    "tuple uses paranthesis ()."
   ]
  },
  {
   "cell_type": "markdown",
   "id": "e2d6f99c",
   "metadata": {},
   "source": [
    "**14. How do you type a tuple value that only contains the integer 42?**"
   ]
  },
  {
   "cell_type": "code",
   "execution_count": 42,
   "id": "7132e9fb",
   "metadata": {},
   "outputs": [],
   "source": [
    "a = (42,)"
   ]
  },
  {
   "cell_type": "code",
   "execution_count": 43,
   "id": "30ef1dbc",
   "metadata": {},
   "outputs": [
    {
     "data": {
      "text/plain": [
       "tuple"
      ]
     },
     "execution_count": 43,
     "metadata": {},
     "output_type": "execute_result"
    }
   ],
   "source": [
    "type(a)"
   ]
  },
  {
   "cell_type": "code",
   "execution_count": 44,
   "id": "2ca26e03",
   "metadata": {},
   "outputs": [
    {
     "data": {
      "text/plain": [
       "(42,)"
      ]
     },
     "execution_count": 44,
     "metadata": {},
     "output_type": "execute_result"
    }
   ],
   "source": [
    "a"
   ]
  },
  {
   "cell_type": "markdown",
   "id": "09856363",
   "metadata": {},
   "source": [
    "**15. How do you get a list value's tuple form? How do you get a tuple value's list form?**"
   ]
  },
  {
   "cell_type": "code",
   "execution_count": 48,
   "id": "3ef38468",
   "metadata": {},
   "outputs": [
    {
     "data": {
      "text/plain": [
       "(2, 5, 7)"
      ]
     },
     "execution_count": 48,
     "metadata": {},
     "output_type": "execute_result"
    }
   ],
   "source": [
    "l = [2,5,7]\n",
    "l1 = tuple(l)\n",
    "l1"
   ]
  },
  {
   "cell_type": "code",
   "execution_count": 49,
   "id": "9899b009",
   "metadata": {},
   "outputs": [
    {
     "data": {
      "text/plain": [
       "tuple"
      ]
     },
     "execution_count": 49,
     "metadata": {},
     "output_type": "execute_result"
    }
   ],
   "source": [
    "type(l1)"
   ]
  },
  {
   "cell_type": "markdown",
   "id": "9fbd5cca",
   "metadata": {},
   "source": [
    "**16. Variables that \"contain\" list values are not necessarily lists themselves. Instead, what do they contain?**"
   ]
  },
  {
   "cell_type": "markdown",
   "id": "3286dc59",
   "metadata": {},
   "source": [
    "Ans.  it contains references to list values.\n"
   ]
  },
  {
   "cell_type": "markdown",
   "id": "8ea95943",
   "metadata": {},
   "source": [
    "**17. How do you distinguish between copy.copy() and copy.deepcopy()?**"
   ]
  },
  {
   "cell_type": "markdown",
   "id": "d27e9885",
   "metadata": {},
   "source": [
    "Ans . The copy.copy() function will do a shallow copy of a list,  <br>\n",
    "The copy.deepcopy() function will do a deep copy of a list. only copy.deepcopy() will duplicate any lists inside the \n",
    "list"
   ]
  },
  {
   "cell_type": "code",
   "execution_count": null,
   "id": "c7f2a70c",
   "metadata": {},
   "outputs": [],
   "source": []
  }
 ],
 "metadata": {
  "kernelspec": {
   "display_name": "Python 3 (ipykernel)",
   "language": "python",
   "name": "python3"
  },
  "language_info": {
   "codemirror_mode": {
    "name": "ipython",
    "version": 3
   },
   "file_extension": ".py",
   "mimetype": "text/x-python",
   "name": "python",
   "nbconvert_exporter": "python",
   "pygments_lexer": "ipython3",
   "version": "3.9.7"
  }
 },
 "nbformat": 4,
 "nbformat_minor": 5
}
