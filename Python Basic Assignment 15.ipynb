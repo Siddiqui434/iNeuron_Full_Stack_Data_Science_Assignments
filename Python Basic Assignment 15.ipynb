{
 "cells": [
  {
   "cell_type": "markdown",
   "id": "2e378827-ea21-40c9-bf88-68fb514bd056",
   "metadata": {},
   "source": [
    "### Python Basic Assingment 15"
   ]
  },
  {
   "cell_type": "markdown",
   "id": "5e845d9f-d38a-4ac1-980b-d45677edc733",
   "metadata": {},
   "source": [
    "* **Q1.How many seconds are in an hour? Use the interactive interpreter as a calculator and multiply the number of seconds in a minute (60) by the number of minutes in an hour (also 60).**"
   ]
  },
  {
   "cell_type": "code",
   "execution_count": 1,
   "id": "5736a276-bb79-4b71-b99c-d2f3c03a0ca1",
   "metadata": {},
   "outputs": [
    {
     "name": "stdout",
     "output_type": "stream",
     "text": [
      "3600\n"
     ]
    }
   ],
   "source": [
    "#number of seconds in a minute (60) by the number of minutes in an hour (also 60).\n",
    "print(60*60)"
   ]
  },
  {
   "cell_type": "markdown",
   "id": "98365c48-bda0-4e93-98b1-de39cc38005e",
   "metadata": {},
   "source": [
    "* **Q2. Assign the result from the previous task (seconds in an hour) to a variable called seconds_per_hour.**"
   ]
  },
  {
   "cell_type": "code",
   "execution_count": 3,
   "id": "6dc18dd9-0a8b-45ba-a315-23aaad689d0f",
   "metadata": {},
   "outputs": [
    {
     "name": "stdout",
     "output_type": "stream",
     "text": [
      "3600\n"
     ]
    }
   ],
   "source": [
    "seconds_per_hour = 60*60\n",
    "print(seconds_per_hour)"
   ]
  },
  {
   "cell_type": "markdown",
   "id": "20afc26a-61d9-45fa-9cbf-d833ba40a80a",
   "metadata": {},
   "source": [
    "* **Q3. How many seconds do you think there are in a day? Make use of the variables seconds per hour and minutes per hour.**"
   ]
  },
  {
   "cell_type": "code",
   "execution_count": 5,
   "id": "70b09e57-8609-47e9-9e0a-95dc40327e41",
   "metadata": {},
   "outputs": [
    {
     "name": "stdout",
     "output_type": "stream",
     "text": [
      "86400\n"
     ]
    }
   ],
   "source": [
    "seconds_per_day = seconds_per_hour*24\n",
    "print(seconds_per_day)"
   ]
  },
  {
   "cell_type": "markdown",
   "id": "5e47d443-7e26-41eb-b0e3-dee723c863a4",
   "metadata": {},
   "source": [
    "* **Q4. Calculate seconds per day again, but this time save the result in a variable called seconds_per_day.**"
   ]
  },
  {
   "cell_type": "code",
   "execution_count": 7,
   "id": "eef81ecc-b5e1-4931-9b82-80ac346627bd",
   "metadata": {},
   "outputs": [
    {
     "name": "stdout",
     "output_type": "stream",
     "text": [
      "86400\n"
     ]
    }
   ],
   "source": [
    "seconds_per_day = 60*60*24\n",
    "print(seconds_per_day)\n"
   ]
  },
  {
   "cell_type": "markdown",
   "id": "acae2607-7dab-4735-a3b4-76715eb9aa6a",
   "metadata": {},
   "source": [
    "* **Q5. Divide seconds_per_day by seconds_per_hour. Use floating-point (/) division.**\n"
   ]
  },
  {
   "cell_type": "code",
   "execution_count": 11,
   "id": "e45a0a39-635c-4fb3-aaa5-075e40d3aca4",
   "metadata": {},
   "outputs": [
    {
     "name": "stdout",
     "output_type": "stream",
     "text": [
      "24.0\n"
     ]
    }
   ],
   "source": [
    "print(seconds_per_day/seconds_per_hour)"
   ]
  },
  {
   "cell_type": "markdown",
   "id": "6d8f033f-be7a-486c-98da-4ed077373072",
   "metadata": {},
   "source": [
    "* **Q6. Divide seconds_per_day by seconds_per_hour, using integer (//) division. Did this number agree with the floating-point value from the previous question, aside from the final .0?**"
   ]
  },
  {
   "cell_type": "code",
   "execution_count": 12,
   "id": "47f24092-a054-479a-ad4e-4e4fba4eac54",
   "metadata": {},
   "outputs": [
    {
     "name": "stdout",
     "output_type": "stream",
     "text": [
      "24 -> yes this values agree with the floating point value from the previous question\n"
     ]
    }
   ],
   "source": [
    "print(seconds_per_day//seconds_per_hour, end='')\n",
    "print(' -> yes this values agree with the floating point value from the previous question')\n"
   ]
  },
  {
   "cell_type": "markdown",
   "id": "6807c941-e126-40f5-9166-f52fc2968db3",
   "metadata": {},
   "source": [
    "* **Q7. Write a generator, genPrimes, that returns the sequence of prime numbers on successive calls to its next() method: 2, 3, 5, 7, 11, ...**"
   ]
  },
  {
   "cell_type": "code",
   "execution_count": 15,
   "id": "e1220e65-1d35-488e-a6f8-59438532e12b",
   "metadata": {},
   "outputs": [
    {
     "name": "stdout",
     "output_type": "stream",
     "text": [
      "2\n",
      "3\n",
      "5\n",
      "7\n",
      "11\n"
     ]
    }
   ],
   "source": [
    "def genPrimes():\n",
    "    n = 0\n",
    "    while True:\n",
    "        if n == 2 or n == 3 :\n",
    "            yield n\n",
    "        elif ((n-1)%6 == 0 or (n+1)%6 == 0) and n !=1:\n",
    "            yield n\n",
    "        n = n+1\n",
    "        \n",
    "output = genPrimes()\n",
    "for ele in range(5):\n",
    "    print(next(output))"
   ]
  },
  {
   "cell_type": "code",
   "execution_count": 7,
   "id": "ca825a61-21bb-4b35-909a-0d94dfc92024",
   "metadata": {},
   "outputs": [],
   "source": [
    "def genPrimes():\n",
    "    n = 2\n",
    "    while True:\n",
    "        prime = True\n",
    "        for i in range(2, int(n ** 0.5) + 1):\n",
    "            if n % i == 0:\n",
    "                prime = False\n",
    "                break\n",
    "        if prime:\n",
    "            yield n\n",
    "        n += 1\n"
   ]
  },
  {
   "cell_type": "code",
   "execution_count": 9,
   "id": "794f1082-c2c3-4c64-a377-b4c99c761b03",
   "metadata": {},
   "outputs": [
    {
     "name": "stdout",
     "output_type": "stream",
     "text": [
      "2\n",
      "3\n",
      "5\n",
      "7\n",
      "11\n"
     ]
    }
   ],
   "source": [
    "output = genPrimes()\n",
    "for ele in range(5):\n",
    "    print(next(output))"
   ]
  },
  {
   "cell_type": "code",
   "execution_count": null,
   "id": "b2779a2a-664b-4129-b9da-05dd90ace007",
   "metadata": {},
   "outputs": [],
   "source": []
  }
 ],
 "metadata": {
  "kernelspec": {
   "display_name": "Python 3 (ipykernel)",
   "language": "python",
   "name": "python3"
  },
  "language_info": {
   "codemirror_mode": {
    "name": "ipython",
    "version": 3
   },
   "file_extension": ".py",
   "mimetype": "text/x-python",
   "name": "python",
   "nbconvert_exporter": "python",
   "pygments_lexer": "ipython3",
   "version": "3.10.6"
  }
 },
 "nbformat": 4,
 "nbformat_minor": 5
}
