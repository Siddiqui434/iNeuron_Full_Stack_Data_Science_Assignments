{
 "cells": [
  {
   "cell_type": "markdown",
   "id": "888c2c71-75f9-4c52-9281-3a3a5d98af69",
   "metadata": {},
   "source": [
    "### Python Basic Assignment 14"
   ]
  },
  {
   "cell_type": "markdown",
   "id": "55bec205-28ff-459b-aadc-cc40ac0008bd",
   "metadata": {},
   "source": [
    "* **Q 1. What does RGBA stand for?**\n",
    "\n",
    "Ans:<br>\n",
    "1.RGBA stands for red, green, blue, and alpha (transparency) in the color<br>\n",
    "2.An RGBA value is a tuple of 4 integers, each ranging from 0 to 255. The four integers correspond.<br>\n",
    "to the amount of red, green, blue, and alpha (transparency) in the color.<br>"
   ]
  },
  {
   "cell_type": "markdown",
   "id": "bd7e6839-6c93-478c-b388-0ee002ae130e",
   "metadata": {},
   "source": [
    "* **Q2. From the Pillow module, how do you get the RGBA value of any images?**\n",
    "\n",
    "Ans: ImageColor.getcolor() gives rgba value of any image"
   ]
  },
  {
   "cell_type": "markdown",
   "id": "7ccd37b2-cc50-4005-a62c-418ffc86425f",
   "metadata": {},
   "source": [
    "* **Q3. What is a box tuple, and how does it work?**\n",
    "\n",
    "Ans: A box tuple is a tuple value of four integers: the left-edge x-coordinate, the top-edge y-coordinate,the width, and the height, respectively."
   ]
  },
  {
   "cell_type": "markdown",
   "id": "ba6904b3-2c98-41bd-a4a4-532d15cbbf87",
   "metadata": {},
   "source": [
    "* **Q4. Use your image and load in notebook then, How can you find out the width and height of an Image object?**\n"
   ]
  },
  {
   "cell_type": "code",
   "execution_count": 2,
   "id": "c689cb9a-e013-40b8-82c3-5ba310afdcbb",
   "metadata": {},
   "outputs": [
    {
     "name": "stdout",
     "output_type": "stream",
     "text": [
      "Width, Height -> (225, 225)\n",
      "Width, Height -> 225,225\n",
      "Width, Height -> 225,225\n"
     ]
    }
   ],
   "source": [
    "#Example Program\n",
    "from PIL import Image\n",
    "pic = Image.open('images.jpg')\n",
    "print(f'Width, Height -> {pic.size}') # Approach 1\n",
    "print(f'Width, Height -> {pic.width},{pic.height}') # Approach 2\n",
    "width,height = pic.size\n",
    "print(f'Width, Height -> {width},{height}') # Approach 3\n"
   ]
  },
  {
   "cell_type": "markdown",
   "id": "de842117-75f4-49a4-8e52-e0f4c8c775d2",
   "metadata": {},
   "source": [
    "* **Q5. What method would you call to get Image object for a 100×100 image, excluding the lower-left quarter of it?**\n"
   ]
  },
  {
   "cell_type": "code",
   "execution_count": 4,
   "id": "6b952691-05c9-4e9f-91bc-eec0a6b131a1",
   "metadata": {},
   "outputs": [],
   "source": [
    "from PIL import Image\n",
    "img = Image.open('images.jpg')\n",
    "new_img = img.crop((0,50,50,50))"
   ]
  },
  {
   "cell_type": "markdown",
   "id": "df8ecb4e-841c-4df4-8217-30671cb6909d",
   "metadata": {},
   "source": [
    "* **Q6. After making changes to an Image object, how could you save it as an image file?**"
   ]
  },
  {
   "cell_type": "code",
   "execution_count": 6,
   "id": "1d6fdcf5-b73c-462a-9503-cd0b320416b1",
   "metadata": {},
   "outputs": [],
   "source": [
    "#Example Program\n",
    "from PIL import Image\n",
    "pic = Image.open('images.jpg')\n",
    "pic.save('pic2.jpg')"
   ]
  },
  {
   "cell_type": "markdown",
   "id": "5d9829e0-7a3d-4d27-b4c0-1d11f939358e",
   "metadata": {},
   "source": [
    "* **Q7. What module contains Pillow’s shape-drawing code?**\n",
    "\n",
    "Ans: Pillows ImageDraw module contains Shape drawing methods"
   ]
  },
  {
   "cell_type": "markdown",
   "id": "ab972db0-6961-47e5-b696-02d0970c5d86",
   "metadata": {},
   "source": [
    "* **Q8. Image objects do not have drawing methods. What kind of object does? How do you get this kind of object?**\n",
    "\n",
    "Ans: ImageDraw objects have shape-drawing methods such as point(), line(), or rectangle().They are returned by passing the Image object to the ImageDraw.Draw() function."
   ]
  },
  {
   "cell_type": "code",
   "execution_count": null,
   "id": "5403fa1c-07ab-453a-913a-328060e3b0f1",
   "metadata": {},
   "outputs": [],
   "source": []
  }
 ],
 "metadata": {
  "kernelspec": {
   "display_name": "Python 3 (ipykernel)",
   "language": "python",
   "name": "python3"
  },
  "language_info": {
   "codemirror_mode": {
    "name": "ipython",
    "version": 3
   },
   "file_extension": ".py",
   "mimetype": "text/x-python",
   "name": "python",
   "nbconvert_exporter": "python",
   "pygments_lexer": "ipython3",
   "version": "3.10.6"
  }
 },
 "nbformat": 4,
 "nbformat_minor": 5
}
